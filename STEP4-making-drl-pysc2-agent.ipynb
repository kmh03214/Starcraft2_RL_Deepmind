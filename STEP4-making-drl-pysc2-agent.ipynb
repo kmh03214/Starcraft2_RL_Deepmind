{
 "cells": [
  {
   "cell_type": "markdown",
   "metadata": {},
   "source": [
    "# STEP 4 - Making DRL PySC2 Agent"
   ]
  },
  {
   "cell_type": "code",
   "execution_count": 67,
   "metadata": {},
   "outputs": [
    {
     "name": "stdout",
     "output_type": "stream",
     "text": [
      "The autoreload extension is already loaded. To reload it, use:\n",
      "  %reload_ext autoreload\n"
     ]
    }
   ],
   "source": [
    "%load_ext autoreload\n",
    "%autoreload 2"
   ]
  },
  {
   "cell_type": "code",
   "execution_count": 68,
   "metadata": {},
   "outputs": [],
   "source": [
    "import sys; sys.path.append('..')"
   ]
  },
  {
   "cell_type": "code",
   "execution_count": 69,
   "metadata": {},
   "outputs": [],
   "source": [
    "### unfortunately, PySC2 uses Abseil, which treats python code as if its run like an app\n",
    "# This does not play well with jupyter notebook\n",
    "# So we will need to monkeypatch sys.argv\n",
    "\n",
    "\n",
    "import sys\n",
    "#sys.argv = [\"python\", \"--map\", \"AbyssalReef\"]\n",
    "sys.argv = [\"python\", \"--map\", \"Simple64\"]"
   ]
  },
  {
   "cell_type": "markdown",
   "metadata": {},
   "source": [
    "## 0. Runnning 'Agent code' on jupyter notebook "
   ]
  },
  {
   "cell_type": "code",
   "execution_count": 83,
   "metadata": {},
   "outputs": [],
   "source": [
    "\n",
    "\n",
    "# Copyright 2017 Google Inc. All Rights Reserved.\n",
    "#\n",
    "# Licensed under the Apache License, Version 2.0 (the \"License\");\n",
    "# you may not use this file except in compliance with the License.\n",
    "# You may obtain a copy of the License at\n",
    "#\n",
    "#      http://www.apache.org/licenses/LICENSE-2.0\n",
    "#\n",
    "# Unless required by applicable law or agreed to in writing, software\n",
    "# distributed under the License is distributed on an \"AS-IS\" BASIS,\n",
    "# WITHOUT WARRANTIES OR CONDITIONS OF ANY KIND, either express or implied.\n",
    "# See the License for the specific language governing permissions and\n",
    "# limitations under the License.\n",
    "\"\"\"Run an agent.\"\"\"\n",
    "\n",
    "from __future__ import absolute_import\n",
    "from __future__ import division\n",
    "from __future__ import print_function\n",
    "\n",
    "import importlib\n",
    "import threading\n",
    "\n",
    "from absl import app\n",
    "from absl import flags\n",
    "from future.builtins import range  # pylint: disable=redefined-builtin\n",
    "\n",
    "from pysc2 import maps\n",
    "from pysc2.env import available_actions_printer\n",
    "from pysc2.env import run_loop\n",
    "from pysc2.env import sc2_env\n",
    "from pysc2.lib import point_flag\n",
    "from pysc2.lib import stopwatch\n",
    "from pysc2.lib import actions\n",
    "\n",
    "FLAGS = flags.FLAGS\n",
    "\n",
    "# because of Abseil's horrible design for running code underneath Colabs\n",
    "# We have to pull out this ugly hack from the hat\n",
    "if \"flags_defined\" not in globals():\n",
    "    flags.DEFINE_bool(\"render\", False, \"Whether to render with pygame.\")\n",
    "    point_flag.DEFINE_point(\"feature_screen_size\", \"84\",\n",
    "                            \"Resolution for screen feature layers.\")\n",
    "    point_flag.DEFINE_point(\"feature_minimap_size\", \"64\",\n",
    "                            \"Resolution for minimap feature layers.\")\n",
    "    point_flag.DEFINE_point(\"rgb_screen_size\", None,\n",
    "                            \"Resolution for rendered screen.\")\n",
    "    point_flag.DEFINE_point(\"rgb_minimap_size\", None,\n",
    "                            \"Resolution for rendered minimap.\")\n",
    "    flags.DEFINE_enum(\"action_space\", \"RAW\", sc2_env.ActionSpace._member_names_,  # pylint: disable=protected-access\n",
    "                      \"Which action space to use. Needed if you take both feature \"\n",
    "                      \"and rgb observations.\")\n",
    "    flags.DEFINE_bool(\"use_feature_units\", False,\n",
    "                      \"Whether to include feature units.\")\n",
    "    flags.DEFINE_bool(\"use_raw_units\", True,\n",
    "                      \"Whether to include raw units.\")\n",
    "    flags.DEFINE_integer(\"raw_resolution\", 64, \"Raw Resolution.\")\n",
    "    flags.DEFINE_bool(\"disable_fog\", True, \"Whether to disable Fog of War.\")\n",
    "\n",
    "    flags.DEFINE_integer(\"max_agent_steps\", 0, \"Total agent steps.\")\n",
    "    flags.DEFINE_integer(\"game_steps_per_episode\", None, \"Game steps per episode.\")\n",
    "    flags.DEFINE_integer(\"max_episodes\", 0, \"Total episodes.\")\n",
    "    flags.DEFINE_integer(\"step_mul\", 8, \"Game steps per agent step.\")\n",
    "    flags.DEFINE_float(\"fps\", 22.4, \"Frames per second to run the game.\")\n",
    "\n",
    "    #flags.DEFINE_string(\"agent\", \"sc2.agent.BasicAgent.ZergBasicAgent\",\n",
    "    #                    \"Which agent to run, as a python path to an Agent class.\")\n",
    "    #flags.DEFINE_enum(\"agent_race\", \"zerg\", sc2_env.Race._member_names_,  # pylint: disable=protected-access\n",
    "    #                  \"Agent 1's race.\")\n",
    "    flags.DEFINE_string(\"agent\", \"TerranRLAgentWithRawActsAndRawObs\",\n",
    "                        \"Which agent to run, as a python path to an Agent class.\")\n",
    "    flags.DEFINE_enum(\"agent_race\", \"terran\", sc2_env.Race._member_names_,  # pylint: disable=protected-access\n",
    "                      \"Agent 1's race.\")\n",
    "\n",
    "    flags.DEFINE_string(\"agent2\", \"Bot\", \"Second agent, either Bot or agent class.\")\n",
    "    flags.DEFINE_enum(\"agent2_race\", \"random\", sc2_env.Race._member_names_,  # pylint: disable=protected-access\n",
    "                      \"Agent 2's race.\")\n",
    "    flags.DEFINE_enum(\"difficulty\", \"hard\", sc2_env.Difficulty._member_names_,  # pylint: disable=protected-access\n",
    "                      \"If agent2 is a built-in Bot, it's strength.\")\n",
    "\n",
    "    flags.DEFINE_bool(\"profile\", False, \"Whether to turn on code profiling.\")\n",
    "    flags.DEFINE_bool(\"trace\", False, \"Whether to trace the code execution.\")\n",
    "    flags.DEFINE_integer(\"parallel\", 1, \"How many instances to run in parallel.\")\n",
    "\n",
    "    flags.DEFINE_bool(\"save_replay\", True, \"Whether to save a replay at the end.\")\n",
    "\n",
    "    flags.DEFINE_string(\"map\", None, \"Name of a map to use.\")\n",
    "    flags.mark_flag_as_required(\"map\")\n",
    "\n",
    "flags_defined = True\n",
    "\n",
    "def run_thread(agent_classes, players, map_name, visualize):\n",
    "  \"\"\"Run one thread worth of the environment with agents.\"\"\"\n",
    "  with sc2_env.SC2Env(\n",
    "      map_name=map_name,\n",
    "      players=players,\n",
    "      agent_interface_format=sc2_env.parse_agent_interface_format(\n",
    "        feature_screen=FLAGS.feature_screen_size,\n",
    "        feature_minimap=FLAGS.feature_minimap_size,\n",
    "        rgb_screen=FLAGS.rgb_screen_size,\n",
    "        rgb_minimap=FLAGS.rgb_minimap_size,\n",
    "        action_space=FLAGS.action_space,\n",
    "        use_raw_units=FLAGS.use_raw_units,\n",
    "        raw_resolution=FLAGS.raw_resolution),\n",
    "      step_mul=FLAGS.step_mul,\n",
    "      game_steps_per_episode=FLAGS.game_steps_per_episode,\n",
    "      disable_fog=FLAGS.disable_fog,\n",
    "      visualize=visualize) as env:\n",
    "    #env = available_actions_printer.AvailableActionsPrinter(env)\n",
    "    agents = [agent_cls() for agent_cls in agent_classes]\n",
    "    run_loop.run_loop(agents, env, FLAGS.max_agent_steps, FLAGS.max_episodes)\n",
    "    if FLAGS.save_replay:\n",
    "      env.save_replay(agent_classes[0].__name__)\n",
    "\n",
    "def main(unused_argv):\n",
    "  \"\"\"Run an agent.\"\"\"\n",
    "  #stopwatch.sw.enabled = FLAGS.profile or FLAGS.trace\n",
    "  #stopwatch.sw.trace = FLAGS.trace\n",
    "\n",
    "  map_inst = maps.get(FLAGS.map)\n",
    "\n",
    "  agent_classes = []\n",
    "  players = []\n",
    "\n",
    "  #agent_module, agent_name = FLAGS.agent.rsplit(\".\", 1)\n",
    "  #agent_cls = getattr(importlib.import_module(agent_module), agent_name)\n",
    "  #agent_classes.append(agent_cls)\n",
    "  agent_classes.append(TerranRLAgentWithRawActsAndRawObs)\n",
    "  players.append(sc2_env.Agent(sc2_env.Race[FLAGS.agent_race]))\n",
    "\n",
    "  if map_inst.players >= 2:\n",
    "    if FLAGS.agent2 == \"Bot\":\n",
    "      players.append(sc2_env.Bot(sc2_env.Race[FLAGS.agent2_race],\n",
    "                                 sc2_env.Difficulty[FLAGS.difficulty]))\n",
    "    else:\n",
    "      #agent_module, agent_name = FLAGS.agent2.rsplit(\".\", 1)\n",
    "      #agent_cls = getattr(importlib.import_module(agent_module), agent_name)\n",
    "      agent_classes.append(TerranRandomAgent)\n",
    "      players.append(sc2_env.Agent(sc2_env.Race[FLAGS.agent2_race]))\n",
    "\n",
    "  threads = []\n",
    "  for _ in range(FLAGS.parallel - 1):\n",
    "    t = threading.Thread(target=run_thread,\n",
    "                         args=(agent_classes, players, FLAGS.map, False))\n",
    "    threads.append(t)\n",
    "    t.start()\n",
    "\n",
    "  run_thread(agent_classes, players, FLAGS.map, FLAGS.render)\n",
    "\n",
    "  for t in threads:\n",
    "    t.join()\n",
    "\n",
    "  if FLAGS.profile:\n",
    "    pass\n",
    "    #print(stopwatch.sw)"
   ]
  },
  {
   "cell_type": "markdown",
   "metadata": {},
   "source": [
    "## 1. Creating a PySC2 Agent with Raw Actions & Observations\n",
    "\n",
    "![StarCraft2 PySC2 interfaces](./images/StarCraft2_PySC2_interfaces.png)\n",
    "\n",
    "ref : https://on-demand.gputechconf.com/gtc/2018/presentation/s8739-machine-learning-with-starcraft-II.pdf"
   ]
  },
  {
   "cell_type": "markdown",
   "metadata": {},
   "source": [
    "### < PySC2 Interfaces 3가지 종류 >\n",
    "\n",
    "### 1st, Rendered\n",
    "* Decomposed :\n",
    "    - Screen, minimap, resources, available actions\n",
    "* Same control as humans :\n",
    "    - Pixel coordinates\n",
    "    - Move camera\n",
    "    - Select unit/rectangle\n",
    "* Great for Deep Learning, but hard\n",
    "\n",
    "### 2nd, Feature Layer\n",
    "* Same actions : still in pixel space\n",
    "* Same decomposed observations, but more abstract\n",
    "    - Orthogonal camera \n",
    "* Layers:\n",
    "    - unit type\n",
    "    - unit owner\n",
    "    - selection\n",
    "    - health\n",
    "    - unit density\n",
    "    - etc\n",
    "    \n",
    "### 3rd, Raw\n",
    "* List of units and state\n",
    "* Control each unit individually in world coordinates\n",
    "* Gives all observable state (no camera)\n",
    "* Great for scripted agents and programmatic replay analysis"
   ]
  },
  {
   "cell_type": "markdown",
   "metadata": {},
   "source": [
    "### < Raw Actions & Observations 을 사용하는 이유>\n",
    "* Raw Actions & Observations 은 world cordinates를 사용하므로 전체 Map을 한번에 관찰하고 Camera를 이동하지 않고도 Map 상의 어느 곳에서도 Action을 취할 수 있는 새로운 형태의 Feature 이다.\n",
    "* 이번 과정에 SL(Supervised Learning, 지도학습)을 활용한 학습은 없지만 스타크래프트 2 리플레이를 활용한 SL은 Raw Actions & Observations를 활용한 \"programmatic replay analysis\"가 필요하다.\n",
    "* 인간 플레이어를 이긴 DeepMind의 AlphaStar의 주요 변경사항 중의 하나는 Raw Actions & Observations 의 활용이다."
   ]
  },
  {
   "cell_type": "markdown",
   "metadata": {},
   "source": [
    "### DRL 모델의 성능 추이를 보기위해 Reward의 평균 추이를 이용한다. 이때 단순이동평균 보다는 지수이동평균이 적절하다.\n",
    "\n",
    "### 지수이동평균(EMA:Exponential Moving Average) 란?\n",
    "지수이동평균(Exponential Moving Average)은 과거의 모든 기간을 계산대상으로 하며 최근의 데이타에 더 높은 가중치를 두는 일종의 가중이동평균법이다.\n",
    "\n",
    "단순이동평균의 계산법에 비하여 원리가 복잡해 보이지만 실제로 이동평균을 산출하는 방법은 Previous Step의 지수이동평균값과 평활계수(smoothing constant) 그리고 당일의 가격만으로 구할 수 있으므로 Previous Step의 지수이동평균값만 구해진다면 오히려 간단한 편이다.\n",
    "\n",
    "따라서 지수이동평균은 단순이동평균에 비해 몇가지 중요한 강점을 가진다.\n",
    "\n",
    "첫째는 가장 최근의 Step에 가장 큰 가중치를 둠으로 해서 최근의 Episode들을 잘 반영한다는 점이고, 둘째는 단순이동평균에서와 같이 오래된 데이타를 갑자기 제외하지 않고 천천히 그 영향력을 사라지게 한다는 점이다.\n",
    "또한 전 기간의 데이타를 분석대상으로 함으로써 가중이동평균에서 문제되는 특정 기간의 데이타만을 분석대상으로 한다는 단점도 보완하고 있다.\n",
    "\n",
    "### 지수이동평균(EMA:Exponential Moving Average) 계산\n",
    "\n",
    "지수이동평균은 가장 최근의 값에 많은 가중치를 부여하고 오래 된 값에는 적은 가중치를 부여한다. 비록 오래 된 값이라고 할지라도 완전히 무시하지는 않고 적게나마 반영시켜 계산한다는 장점이 있다. 단기 변동성을 포착하려는 것이 목적이다.\n",
    "\n",
    "EMA=Previous Step 지수이동평균+(k∗(Current Step Reward − Previous Step 지수이동평균))\n"
   ]
  },
  {
   "cell_type": "markdown",
   "metadata": {},
   "source": [
    "## 3. Applying Vanilla DQN to a PySC2 Agent\n",
    "\n",
    "구현된 기능\n",
    "\n",
    "- Implementing 'Experience Replay' : \n",
    "    - 'Maximization Bias' 문제를 발생시키는 원인 중 하나인 'Sample간의 시간적 연관성'을 해결하기 위한 방법\n",
    "    - Online Learning 에서 Batch Learning 으로 학습방법 바뀜 : Online update 는 Batch update 보다 일반적으로 Validation loss 가 더 높게 나타남.\n",
    "    - Reinforcement Learning for Robots. Using Neural Networks. Long -Ji Lin. January 6, 1993. 논문에서 최초로 연구됨 http://isl.anthropomatik.kit.edu/pdf/Lin1993.pdf\n",
    "\n",
    "- Implementing 'Fixed Q-Target' : \n",
    "    - 'Moving Q-Target' 문제 해결하기 위한 방법\n",
    "    - 2015년 Nature 버전 DQN 논문에서 처음 제안됨. https://deepmind.com/research/publications/human-level-control-through-deep-reinforcement-learning \n",
    "\n",
    "\n",
    "구현되지 않은 기능\n",
    "\n",
    "- Implementing 'Sensory Input Feature-Extraction' :\n",
    "    - 게임의 Raw Image 를 Neural Net에 넣기 위한 Preprocessing(전처리) 과정\n",
    "    - Raw Image 의 Sequence중 '최근 4개의 이미지'(과거 정보)를 하나의 새로운 State로 정의하여 non-MDP를 MDP 문제로 바꾸는 Preprocessing 과정 \n",
    "    - CNN(합성곱 신경망)을 활용한 '차원의 저주' 극복"
   ]
  },
  {
   "cell_type": "code",
   "execution_count": 271,
   "metadata": {},
   "outputs": [],
   "source": [
    "import random\n",
    "import time\n",
    "import math\n",
    "import os.path\n",
    "\n",
    "import numpy as np\n",
    "import pandas as pd\n",
    "from collections import deque\n",
    "import pickle\n",
    "\n",
    "from pysc2.agents import base_agent\n",
    "from pysc2.env import sc2_env\n",
    "from pysc2.lib import actions, features, units, upgrades\n",
    "from absl import app\n",
    "\n",
    "import torch\n",
    "from torch.utils.tensorboard import SummaryWriter\n",
    "\n",
    "from skdrl.pytorch.model.mlp import NaiveMultiLayerPerceptron\n",
    "from skdrl.common.memory.memory import ExperienceReplayMemory"
   ]
  },
  {
   "cell_type": "code",
   "execution_count": 272,
   "metadata": {},
   "outputs": [],
   "source": [
    "DATA_FILE_QNET = 'rlagent_with_vanilla_dqn_qnet'\n",
    "DATA_FILE_QNET_TARGET = 'rlagent_with_vanilla_dqn_qnet_target'\n",
    "SCORE_FILE = 'rlagent_with_vanilla_dqn_score'\n",
    "\n",
    "scores = []                        # list containing scores from each episode\n",
    "scores_window = deque(maxlen=100)  # last 100 scores\n",
    "\n",
    "device = torch.device(\"cuda:0\" if torch.cuda.is_available() else \"cpu\")\n",
    "writer = SummaryWriter()"
   ]
  },
  {
   "cell_type": "code",
   "execution_count": 273,
   "metadata": {},
   "outputs": [
    {
     "name": "stdout",
     "output_type": "stream",
     "text": [
      "NaiveMultiLayerPerceptron(\n",
      "  (hidden_act_func): ReLU()\n",
      "  (out_act_func): Identity()\n",
      "  (layers): ModuleList(\n",
      "    (0): Linear(in_features=10, out_features=20, bias=True)\n",
      "    (1): ReLU()\n",
      "    (2): Linear(in_features=20, out_features=12, bias=True)\n",
      "    (3): ReLU()\n",
      "    (4): Linear(in_features=12, out_features=1, bias=True)\n",
      "    (5): Identity()\n",
      "  )\n",
      ")\n",
      "tensor([[-0.3301],\n",
      "        [-0.4388],\n",
      "        [-0.4118],\n",
      "        [-0.3924],\n",
      "        [-0.3717],\n",
      "        [-0.4231],\n",
      "        [-0.4617],\n",
      "        [-0.3912],\n",
      "        [-0.3118],\n",
      "        [-0.3619],\n",
      "        [-0.3262],\n",
      "        [-0.4291]], grad_fn=<AddmmBackward>)\n"
     ]
    }
   ],
   "source": [
    "import torch\n",
    "import torch.nn as nn\n",
    "\n",
    "\n",
    "class NaiveMultiLayerPerceptron(nn.Module):\n",
    "\n",
    "    def __init__(self,\n",
    "                 input_dim: int,\n",
    "                 output_dim: int,\n",
    "                 num_neurons: list = [64, 32],\n",
    "                 hidden_act_func: str = 'ReLU',\n",
    "                 out_act_func: str = 'Identity'):\n",
    "        super(NaiveMultiLayerPerceptron, self).__init__()\n",
    "\n",
    "        self.input_dim = input_dim\n",
    "        self.output_dim = output_dim\n",
    "        self.num_neurons = num_neurons\n",
    "        self.hidden_act_func = getattr(nn, hidden_act_func)()\n",
    "        self.out_act_func = getattr(nn, out_act_func)()\n",
    "\n",
    "        input_dims = [input_dim] + num_neurons\n",
    "        output_dims = num_neurons + [output_dim]\n",
    "\n",
    "        self.layers = nn.ModuleList()\n",
    "        for i, (in_dim, out_dim) in enumerate(zip(input_dims, output_dims)):\n",
    "            is_last = True if i == len(input_dims) - 1 else False\n",
    "            self.layers.append(nn.Linear(in_dim, out_dim))\n",
    "            if is_last:\n",
    "                self.layers.append(self.out_act_func)\n",
    "            else:\n",
    "                self.layers.append(self.hidden_act_func)\n",
    "\n",
    "    def forward(self, xs):\n",
    "        for layer in self.layers:\n",
    "            xs = layer(xs)\n",
    "        return xs\n",
    "\n",
    "\n",
    "if __name__ == '__main__':\n",
    "    net = NaiveMultiLayerPerceptron(10, 1, [20, 12], 'ReLU', 'Identity')\n",
    "    print(net)\n",
    "\n",
    "    xs = torch.randn(size=(12, 10))\n",
    "    ys = net(xs)\n",
    "    print(ys)\n"
   ]
  },
  {
   "cell_type": "markdown",
   "metadata": {},
   "source": [
    "### Q-update 공식\n",
    "\n",
    "#### 1. Online Q-learning\n",
    "![Online Q-learning](./images/q-update-experience-replay.png)\n",
    "\n",
    "#### 2. Online Q-learning with Function Approximation\n",
    "![Online Q-learning with Function Approximation](./images/q-update-function-approximation.png)\n",
    "\n",
    "#### 3. Batch Q-learning with Function Approximation & Experience Replay\n",
    "![Batch Q-learning with Function Approximation & Experience Replay](./images/q-update-online.png)"
   ]
  },
  {
   "cell_type": "code",
   "execution_count": 274,
   "metadata": {},
   "outputs": [],
   "source": [
    "from random import sample\n",
    "\n",
    "\n",
    "class ExperienceReplayMemory:\n",
    "    def __init__(self, max_size):\n",
    "        # deque object that we've used for 'episodic_memory' is not suitable for random sampling\n",
    "        # here, we instead use a fix-size array to implement 'buffer'\n",
    "        self.buffer = [None] * max_size\n",
    "        self.max_size = max_size\n",
    "        self.index = 0\n",
    "        self.size = 0\n",
    "\n",
    "    def push(self, obj):\n",
    "        self.buffer[self.index] = obj\n",
    "        self.size = min(self.size + 1, self.max_size)\n",
    "        self.index = (self.index + 1) % self.max_size\n",
    "\n",
    "    def sample(self, batch_size):\n",
    "        indices = sample(range(self.size), batch_size)\n",
    "        return [self.buffer[index] for index in indices]\n",
    "\n",
    "    def __len__(self):\n",
    "        return self.size"
   ]
  },
  {
   "cell_type": "markdown",
   "metadata": {},
   "source": [
    "### Moving target problem\n",
    "\n",
    "#### 1. Function Approximation을 사용하지 않는 Q-learning 의 경우 : 특정한 Q(s,a) update가 다른 Q(s,a)에 영향을 주지 않는다.\n",
    "![Moving target Q-learning](./images/moving-target_q-learing_case.png)\n",
    "\n",
    "#### 2. Function Approximation을 사용하는 Q-learnig 의 경우 : 특정한 Q(s,a) update가 다른 Q(s,a)에 영향을 준다.\n",
    "![Moving target Q-learning with Function Approximation](./images/moving-target_q-learing_with_function_approximation_case.png)\n",
    "\n",
    "### Moving target 문제는 Deep Neural Network를 사용하는 Function Approximation 기법인 경우 심해지는 경향성이 있음.\n",
    "\n",
    "image ref : Fast Campus RL online courese"
   ]
  },
  {
   "cell_type": "markdown",
   "metadata": {},
   "source": [
    "### `nn.SmoothL1Loss()` = Huber loss 란?\n",
    "\n",
    "Mean-squared Error (MSE) Loss 는 데이터의 outlier에 매우 취약하다.\n",
    "어떤 이유로 타겟하는 레이블 y (이 경우는 q-learning target)이 noisy 할때를 가정하면, 잘못된 y 값을 맞추기 위해 파라미터들이 너무 sensitive 하게 움직이게 된다.\n",
    "\n",
    "이런 현상은 q-learning 의 학습초기에 매우 빈번해 나타난다. 이러한 문제를 조금이라도 완화하기 위해서 outlier에 덜 민감한 Huber loss 함수를 사용한다.\n",
    "\n",
    "### SmoothL1Loss (aka Huber loss)\n",
    "\n",
    "$$loss(x,y) = \\frac{1}{n}\\sum_i z_i$$\n",
    "$|x_i - y_i| <1$ 일때,\n",
    "$$z_i = 0.5(x_i - y_i)^2$$\n",
    "$|x_i - y_i| \\geq1$ 일때,\n",
    "$$z_i = |x_i - y_i|-0.5$$\n",
    "\n",
    "ref : https://pytorch.org/docs/master/generated/torch.nn.SmoothL1Loss.html"
   ]
  },
  {
   "cell_type": "code",
   "execution_count": 275,
   "metadata": {},
   "outputs": [],
   "source": [
    "import torch\n",
    "import torch.nn as nn\n",
    "import numpy as np\n",
    "import random\n",
    "\n",
    "class DQN(nn.Module):\n",
    "\n",
    "    def __init__(self,\n",
    "                 state_dim: int,\n",
    "                 action_dim: int,\n",
    "                 qnet: nn.Module,\n",
    "                 qnet_target: nn.Module,\n",
    "                 lr: float,\n",
    "                 gamma: float,\n",
    "                 epsilon: float):\n",
    "        \"\"\"\n",
    "        :param state_dim: input state dimension\n",
    "        :param action_dim: action dimension\n",
    "        :param qnet: main q network\n",
    "        :param qnet_target: target q network\n",
    "        :param lr: learning rate\n",
    "        :param gamma: discount factor of MDP\n",
    "        :param epsilon: E-greedy factor\n",
    "        \"\"\"\n",
    "\n",
    "        super(DQN, self).__init__()\n",
    "        self.state_dim = state_dim\n",
    "        self.action_dim = action_dim\n",
    "        self.qnet = qnet\n",
    "        self.lr = lr\n",
    "        self.gamma = gamma\n",
    "        self.opt = torch.optim.Adam(params=self.qnet.parameters(), lr=lr)\n",
    "        self.register_buffer('epsilon', torch.ones(1) * epsilon)\n",
    "\n",
    "        # target network related\n",
    "        qnet_target.load_state_dict(qnet.state_dict())\n",
    "        self.qnet_target = qnet_target\n",
    "        self.criteria = nn.SmoothL1Loss()\n",
    "\n",
    "    def choose_action(self, state):\n",
    "        qs = self.qnet(state)\n",
    "        #prob = np.random.uniform(0.0, 1.0, 1)\n",
    "        #if torch.from_numpy(prob).float() <= self.epsilon:  # random\n",
    "        if random.random() <= self.epsilon: # random\n",
    "            action = np.random.choice(range(self.action_dim))\n",
    "        else:  # greedy\n",
    "            action = qs.argmax(dim=-1)\n",
    "        return int(action)\n",
    "\n",
    "    def learn(self, state, action, reward, next_state, done):\n",
    "        s, a, r, ns = state, action, reward, next_state\n",
    "#         print(\"state: \", s)\n",
    "#         print(\"action: \", a)\n",
    "#         print(\"reward: \", reward)\n",
    "#         print(\"next_state: \", ns)\n",
    "        \n",
    "\n",
    "        # compute Q-Learning target with 'target network'\n",
    "        with torch.no_grad():\n",
    "            q_max, _ = self.qnet_target(ns).max(dim=-1, keepdims=True)\n",
    "            q_target = r + self.gamma * q_max * (1 - done)\n",
    "\n",
    "        q_val = self.qnet(s).gather(1, a)\n",
    "        loss = self.criteria(q_val, q_target)\n",
    "\n",
    "        self.opt.zero_grad()\n",
    "        loss.backward()\n",
    "        self.opt.step()\n",
    "\n",
    "\n",
    "def prepare_training_inputs(sampled_exps, device='cpu'):\n",
    "    states = []\n",
    "    actions = []\n",
    "    rewards = []\n",
    "    next_states = []\n",
    "    dones = []\n",
    "    for sampled_exp in sampled_exps:\n",
    "        states.append(sampled_exp[0])\n",
    "        actions.append(sampled_exp[1])\n",
    "        rewards.append(sampled_exp[2])\n",
    "        next_states.append(sampled_exp[3])\n",
    "        dones.append(sampled_exp[4])\n",
    "\n",
    "    states = torch.cat(states, dim=0).float().to(device)\n",
    "    actions = torch.cat(actions, dim=0).to(device)\n",
    "    rewards = torch.cat(rewards, dim=0).float().to(device)\n",
    "    next_states = torch.cat(next_states, dim=0).float().to(device)\n",
    "    dones = torch.cat(dones, dim=0).float().to(device)\n",
    "    return states, actions, rewards, next_states, dones"
   ]
  },
  {
   "cell_type": "markdown",
   "metadata": {},
   "source": [
    "# Action 함수 정의"
   ]
  },
  {
   "cell_type": "code",
   "execution_count": 309,
   "metadata": {},
   "outputs": [],
   "source": [
    "class TerranAgentWithRawActsAndRawObs(base_agent.BaseAgent):\n",
    "    # actions 추가 및 함수 정의(hirerachy하게)\n",
    "    \n",
    "    actions = (\"do_nothing\",\n",
    "               \"train_scv\",\n",
    "               \"harvest_minerals\",\n",
    "               \"harvest_gas\",\n",
    "               \"build_commandcenter\",\n",
    "               \n",
    "               \"build_refinery\",\n",
    "               \"build_supply_depot\",\n",
    "               \"build_barracks\",\n",
    "               \"train_marine\",\n",
    "               \n",
    "               \"build_factorys\",\n",
    "               \"build_techlab_factorys\",\n",
    "               \"train_tank\",\n",
    "               \n",
    "               \"build_armorys\",\n",
    "               \n",
    "               \"build_starports\",\n",
    "               \"build_techlab_starports\",\n",
    "               \"train_banshee\",\n",
    "               \n",
    "               \"attack\",\n",
    "               \"attack_all\",\n",
    "               \n",
    "               \"tank_control\"\n",
    "              )\n",
    "\n",
    "\n",
    "    \n",
    "    def unit_type_is_selected(self, obs, unit_type):\n",
    "        if (len(obs.observation.single_select) > 0 and\n",
    "            obs.observation.single_select[0].unit_type == unit_type):\n",
    "              return True\n",
    "\n",
    "        if (len(obs.observation.multi_select) > 0 and\n",
    "            obs.observation.multi_select[0].unit_type == unit_type):\n",
    "              return True\n",
    "\n",
    "        return False\n",
    "\n",
    "    def get_my_units_by_type(self, obs, unit_type):\n",
    "        if unit_type == units.Neutral.VespeneGeyser: # 가스 일 때만\n",
    "            return [unit for unit in obs.observation.raw_units\n",
    "                if unit.unit_type == unit_type]\n",
    "        \n",
    "        return [unit for unit in obs.observation.raw_units\n",
    "                if unit.unit_type == unit_type\n",
    "                and unit.alliance == features.PlayerRelative.SELF]\n",
    "\n",
    "    def get_enemy_units_by_type(self, obs, unit_type):\n",
    "        return [unit for unit in obs.observation.raw_units\n",
    "                if unit.unit_type == unit_type\n",
    "                and unit.alliance == features.PlayerRelative.ENEMY]\n",
    "\n",
    "    def get_my_completed_units_by_type(self, obs, unit_type):\n",
    "        return [unit for unit in obs.observation.raw_units\n",
    "                if unit.unit_type == unit_type\n",
    "                and unit.build_progress == 100\n",
    "                and unit.alliance == features.PlayerRelative.SELF]\n",
    "\n",
    "    def get_enemy_completed_units_by_type(self, obs, unit_type):\n",
    "        return [unit for unit in obs.observation.raw_units\n",
    "                if unit.unit_type == unit_type\n",
    "                and unit.build_progress == 100\n",
    "                and unit.alliance == features.PlayerRelative.ENEMY]\n",
    "\n",
    "    def get_distances(self, obs, units, xy):\n",
    "        units_xy = [(unit.x, unit.y) for unit in units]\n",
    "        return np.linalg.norm(np.array(units_xy) - np.array(xy), axis=1)\n",
    "\n",
    "    def step(self, obs):\n",
    "        super(TerranAgentWithRawActsAndRawObs, self).step(obs)\n",
    "        if obs.first():\n",
    "            command_center = self.get_my_units_by_type(\n",
    "                obs, units.Terran.CommandCenter)[0]\n",
    "            self.base_top_left = (command_center.x < 32)\n",
    "            self.top_left_gas_xy = [(14, 25), (21,19), (46,23), (39,16)]\n",
    "            self.bottom_right_gas_xy = [(44, 43), (37,50), (12,46), (19,53)]\n",
    "            \n",
    "            \n",
    "            self.cloaking_flag = 1\n",
    "            \n",
    "            self.TerranVehicleWeaponsLevel1 = False\n",
    "            self.TerranVehicleWeaponsLevel2 = False\n",
    "            self.TerranVehicleWeaponsLevel3 = False\n",
    "            \n",
    "\n",
    "    def do_nothing(self, obs):\n",
    "        return actions.RAW_FUNCTIONS.no_op()\n",
    "    \n",
    "    def train_scv(self, obs):\n",
    "        completed_commandcenterses = self.get_my_completed_units_by_type(\n",
    "            obs, units.Terran.CommandCenter)\n",
    "        \n",
    "        scvs = self.get_my_units_by_type(obs, units.Terran.SCV)\n",
    "        \n",
    "        if (len(completed_commandcenterses) > 0 and obs.observation.player.minerals >= 100\n",
    "                and len(scvs) < 35):\n",
    "            commandcenters = self.get_my_units_by_type(obs, units.Terran.CommandCenter)\n",
    "            \n",
    "            ccs =[commandcenter for commandcenter in commandcenters if commandcenter.assigned_harvesters < 18]\n",
    "            \n",
    "            if ccs:\n",
    "                ccs = ccs[0]\n",
    "                if ccs.order_length < 5:\n",
    "                    return actions.RAW_FUNCTIONS.Train_SCV_quick(\"now\", ccs.tag)\n",
    "        return actions.RAW_FUNCTIONS.no_op()\n",
    "\n",
    "    def harvest_minerals(self, obs):\n",
    "        scvs = self.get_my_units_by_type(obs, units.Terran.SCV)\n",
    "        commandcenters = self.get_my_units_by_type(obs,units.Terran.CommandCenter) # 최적 자원 할당 유닛 구현\n",
    "        \n",
    "        cc = [commandcenter for commandcenter in commandcenters if commandcenter.assigned_harvesters < 18]\n",
    "        \n",
    "        if cc:\n",
    "            cc = cc[0]\n",
    "\n",
    "            idle_scvs = [scv for scv in scvs if scv.order_length == 0]\n",
    "\n",
    "            if len(idle_scvs) > 0 and cc.assigned_harvesters < 18:\n",
    "\n",
    "                mineral_patches = [unit for unit in obs.observation.raw_units\n",
    "                                   if unit.unit_type in [\n",
    "                                       units.Neutral.BattleStationMineralField,\n",
    "                                       units.Neutral.BattleStationMineralField750,\n",
    "                                       units.Neutral.LabMineralField,\n",
    "                                       units.Neutral.LabMineralField750,\n",
    "                                       units.Neutral.MineralField,\n",
    "                                       units.Neutral.MineralField750,\n",
    "                                       units.Neutral.PurifierMineralField,\n",
    "                                       units.Neutral.PurifierMineralField750,\n",
    "                                       units.Neutral.PurifierRichMineralField,\n",
    "                                       units.Neutral.PurifierRichMineralField750,\n",
    "                                       units.Neutral.RichMineralField,\n",
    "                                       units.Neutral.RichMineralField750\n",
    "                                   ]]\n",
    "                scv = random.choice(idle_scvs)\n",
    "                distances = self.get_distances(obs, mineral_patches, (scv.x, scv.y))\n",
    "                mineral_patch = mineral_patches[np.argmin(distances)]\n",
    "                return actions.RAW_FUNCTIONS.Harvest_Gather_unit(\n",
    "                    \"now\", scv.tag, mineral_patch.tag)\n",
    "        return actions.RAW_FUNCTIONS.no_op()\n",
    "    \n",
    "    def harvest_gas(self, obs):\n",
    "        scvs = self.get_my_units_by_type(obs, units.Terran.SCV)\n",
    "        refs = self.get_my_units_by_type(obs, units.Terran.Refinery)\n",
    "        \n",
    "        refs = [refinery for refinery in refs if refinery.assigned_harvesters < 3]\n",
    "        \n",
    "        if refs:\n",
    "            ref = refs[0]\n",
    "            if len(scvs) > 0 and ref.ideal_harvesters:\n",
    "                scv = random.choice(scvs)\n",
    "                distances = self.get_distances(obs, refs, (scv.x, scv.y))\n",
    "                ref = refs[np.argmin(distances)]\n",
    "\n",
    "                return actions.RAW_FUNCTIONS.Harvest_Gather_unit(\n",
    "                    \"now\", scv.tag, ref.tag)\n",
    "        \n",
    "        return actions.RAW_FUNCTIONS.no_op()\n",
    "    \n",
    "    def build_commandcenter(self,obs):\n",
    "        commandcenters = self.get_my_units_by_type(obs,units.Terran.CommandCenter)\n",
    "        \n",
    "        scvs = self.get_my_units_by_type(obs, units.Terran.SCV)\n",
    "        \n",
    "        if len(commandcenters) == 0 and obs.observation.player.minerals >= 400 and len(scvs) > 0:\n",
    "            # 본진 commandcenter가 파괴된 경우\n",
    "            ccs_xy = (19, 23) if self.base_top_left else (39,45)\n",
    "            distances = self.get_distances(obs, scvs, ccs_xy)\n",
    "            scv = scvs[np.argmin(distances)]\n",
    "            return actions.RAW_FUNCTIONS.Build_CommandCenter_pt(\n",
    "                \"now\", scv.tag, ccs_xy)\n",
    "        \n",
    "        if ( len(commandcenters) < 2 and obs.observation.player.minerals >= 400 and\n",
    "                len(scvs) > 0):\n",
    "            ccs_xy = (41, 21) if self.base_top_left else (17, 48)\n",
    "            \n",
    "            if len(commandcenters) == 1 and ( (commandcenters[0].x,commandcenters[0].y) == (41,21) or\n",
    "                                             (commandcenters[0].x,commandcenters[0].y) == (17,48)):\n",
    "                # 본진 commandcenter가 파괴된 경우\n",
    "                ccs_xy = (19, 23) if self.base_top_left else (39,45)\n",
    "            \n",
    "            distances = self.get_distances(obs, scvs, ccs_xy)\n",
    "            scv = scvs[np.argmin(distances)]\n",
    "\n",
    "            return actions.RAW_FUNCTIONS.Build_CommandCenter_pt(\n",
    "                \"now\", scv.tag, ccs_xy)\n",
    "        return actions.RAW_FUNCTIONS.no_op()\n",
    "    \n",
    "    ################################################################################################\n",
    "    ####################################### refinery ###############################################\n",
    "    \n",
    "    def build_refinery(self,obs):\n",
    "        refinerys = self.get_my_units_by_type(obs,units.Terran.Refinery)\n",
    "        scvs = self.get_my_units_by_type(obs, units.Terran.SCV)\n",
    "        \n",
    "        if (obs.observation.player.minerals >= 100 and\n",
    "                len(scvs) > 0):\n",
    "            gas = self.get_my_units_by_type(obs, units.Neutral.VespeneGeyser)[0]\n",
    "            \n",
    "            if self.base_top_left:\n",
    "                gases = self.top_left_gas_xy\n",
    "            else:\n",
    "                gases = self.bottom_right_gas_xy\n",
    "            \n",
    "            rc = np.random.choice([0,1,2,3])\n",
    "            gas_xy = gases[rc]\n",
    "            if (gas.x, gas.y) == gas_xy:\n",
    "                distances = self.get_distances(obs, scvs, gas_xy)\n",
    "                scv = scvs[np.argmin(distances)]\n",
    "\n",
    "                return actions.RAW_FUNCTIONS.Build_Refinery_pt(\n",
    "                    \"now\", scv.tag, gas.tag)\n",
    "        return actions.RAW_FUNCTIONS.no_op()\n",
    "\n",
    "    def build_supply_depot(self, obs):\n",
    "        supply_depots = self.get_my_units_by_type(obs, units.Terran.SupplyDepot)\n",
    "        scvs = self.get_my_units_by_type(obs, units.Terran.SCV)\n",
    "        \n",
    "        free_supply = (obs.observation.player.food_cap -\n",
    "                       obs.observation.player.food_used)\n",
    "        \n",
    "        if (obs.observation.player.minerals >= 100 and\n",
    "            len(scvs) > 0 and free_supply < 8):\n",
    "            \n",
    "            ccs = self.get_my_units_by_type(obs, units.Terran.CommandCenter)\n",
    "            if ccs:\n",
    "                for cc in ccs:\n",
    "                    cc_x, cc_y = cc.x, cc.y\n",
    "                \n",
    "                rand1,rand2 = random.randint(0,10),random.randint(-10,0)\n",
    "                supply_depot_xy = (cc_x + rand1, cc_y + rand2) if self.base_top_left else (cc_x - rand1, cc_y - rand2)\n",
    "                if 0 < supply_depot_xy[0] < 64 and 0 < supply_depot_xy[1] < 64:\n",
    "                    pass\n",
    "                else:\n",
    "                    return actions.RAW_FUNCTIONS.no_op()\n",
    "                    \n",
    "                \n",
    "                distances = self.get_distances(obs, scvs, supply_depot_xy)\n",
    "                scv = scvs[np.argmin(distances)]\n",
    "                \n",
    "                return actions.RAW_FUNCTIONS.Build_SupplyDepot_pt(\n",
    "                    \"now\", scv.tag, supply_depot_xy)\n",
    "                \n",
    "        return actions.RAW_FUNCTIONS.no_op()\n",
    "\n",
    "    def build_barracks(self, obs):\n",
    "        completed_supply_depots = self.get_my_completed_units_by_type(\n",
    "            obs, units.Terran.SupplyDepot)\n",
    "        barrackses = self.get_my_units_by_type(obs, units.Terran.Barracks)\n",
    "        scvs = self.get_my_units_by_type(obs, units.Terran.SCV)\n",
    "        \n",
    "        if (len(completed_supply_depots) > 0 and\n",
    "            obs.observation.player.minerals >= 150 and len(scvs) > 0 and\n",
    "            len(barrackses)< 3):\n",
    "            \n",
    "            brks = self.get_my_units_by_type(obs, units.Terran.SupplyDepot)\n",
    "            \n",
    "            completed_command_center = self.get_my_completed_units_by_type(\n",
    "            obs, units.Terran.CommandCenter)\n",
    "            \n",
    "            if len(barrackses) >= 1 and len(completed_command_center) == 1:\n",
    "                # double commands\n",
    "                    \n",
    "                commandcenters = self.get_my_units_by_type(obs,units.Terran.CommandCenter)\n",
    "                scvs = self.get_my_units_by_type(obs, units.Terran.SCV)\n",
    "\n",
    "                if ( len(commandcenters) < 2 and obs.observation.player.minerals >= 400 and\n",
    "                        len(scvs) > 0):\n",
    "                    ccs_xy = (41, 21) if self.base_top_left else (17, 48)\n",
    "\n",
    "                    distances = self.get_distances(obs, scvs, ccs_xy)\n",
    "                    scv = scvs[np.argmin(distances)]\n",
    "\n",
    "                    return actions.RAW_FUNCTIONS.Build_CommandCenter_pt(\n",
    "                        \"now\", scv.tag, ccs_xy)\n",
    "            \n",
    "            if brks:\n",
    "                for brk in brks:\n",
    "                    brk_x,brk_y = brk.x, brk.y\n",
    "                \n",
    "\n",
    "                rand1, rand2 = random.randint(1,3),random.randint(1,3)\n",
    "                barracks_xy = (brk_x + rand1, brk_y + rand2) if self.base_top_left else (brk_x - rand1, brk_y - rand2)\n",
    "                if 0 < barracks_xy[0] < 64 and 0 < barracks_xy[1] < 64:\n",
    "                    pass\n",
    "                else:\n",
    "                    return actions.RAW_FUNCTIONS.no_op()\n",
    "                    \n",
    "\n",
    "                distances = self.get_distances(obs, scvs, barracks_xy)\n",
    "                scv = scvs[np.argmin(distances)]\n",
    "                return actions.RAW_FUNCTIONS.Build_Barracks_pt(\n",
    "                    \"now\", scv.tag, barracks_xy)\n",
    "        \n",
    "        \n",
    "        \n",
    "        return actions.RAW_FUNCTIONS.no_op()\n",
    "\n",
    "    def train_marine(self, obs):\n",
    "        \n",
    "        ################# 아머리가 완성된 후 부터 토르생산 ######################\n",
    "        completed_barrackses = self.get_my_completed_units_by_type(\n",
    "            obs, units.Terran.Barracks)\n",
    "        \n",
    "        completed_factorys = self.get_my_completed_units_by_type(\n",
    "            obs, units.Terran.Factory)\n",
    "        \n",
    "        completed_armorys = self.get_my_completed_units_by_type(\n",
    "            obs, units.Terran.Armory)\n",
    "        \n",
    "        marines = self.get_my_units_by_type(obs, units.Terran.Marine)\n",
    "        \n",
    "        \n",
    "        free_supply = (obs.observation.player.food_cap -\n",
    "                       obs.observation.player.food_used)\n",
    "        \n",
    "        \n",
    "        if (len(completed_barrackses) > 0 and obs.observation.player.minerals >= 100\n",
    "                and free_supply > 0 and len(completed_armorys) == 0):\n",
    "            barracks = self.get_my_units_by_type(obs, units.Terran.Barracks)[0]\n",
    "            if barracks.order_length < 5:\n",
    "                return actions.RAW_FUNCTIONS.Train_Marine_quick(\"now\", barracks.tag)\n",
    "        \n",
    "        elif free_supply > 0 and len(completed_factorys) > 0 and len(completed_armorys) > 0:\n",
    "            factory = completed_factorys[0]\n",
    "            if factory.order_length < 5:\n",
    "                return actions.RAW_FUNCTIONS.Train_Thor_quick(\"now\", factory.tag)\n",
    "        \n",
    "        return actions.RAW_FUNCTIONS.no_op()\n",
    "    \n",
    "    ###############################################################################################\n",
    "    ###################################### Factorys ###############################################\n",
    "    ###############################################################################################\n",
    "    \n",
    "    def build_factorys(self, obs):\n",
    "        completed_barrackses = self.get_my_completed_units_by_type(\n",
    "            obs, units.Terran.Barracks)\n",
    "        \n",
    "        factorys = self.get_my_units_by_type(obs, units.Terran.Factory)\n",
    "        scvs = self.get_my_units_by_type(obs, units.Terran.SCV)\n",
    "        ref = self.get_my_completed_units_by_type(obs,units.Terran.Refinery)\n",
    "        # print(\"gas: \", obs.observation.player.minerals)\n",
    "        # print(\"gas: \", obs.observation.player.gas)\n",
    "        if (len(completed_barrackses) > 0 and\n",
    "            obs.observation.player.minerals >= 200 and\n",
    "            len(factorys) < 3 and\n",
    "            len(scvs) > 0):\n",
    "            \n",
    "            if len(factorys) >= 1 and len(ref) < 4: # 가스부족시 가스 건설\n",
    "                refinerys = self.get_my_units_by_type(obs,units.Terran.Refinery)\n",
    "                scvs = self.get_my_units_by_type(obs, units.Terran.SCV)\n",
    "\n",
    "                if (obs.observation.player.minerals >= 100 and\n",
    "                        len(scvs) > 0):\n",
    "                    gas = self.get_my_units_by_type(obs, units.Neutral.VespeneGeyser)[0]\n",
    "\n",
    "                    if self.base_top_left:\n",
    "                        gases = self.top_left_gas_xy\n",
    "                    else:\n",
    "                        gases = self.bottom_right_gas_xy\n",
    "\n",
    "                    rc = np.random.choice([0,1,2,3])\n",
    "                    gas_xy = gases[rc]\n",
    "                    if (gas.x, gas.y) == gas_xy:\n",
    "                        distances = self.get_distances(obs, scvs, gas_xy)\n",
    "                        scv = scvs[np.argmin(distances)]\n",
    "\n",
    "                        return actions.RAW_FUNCTIONS.Build_Refinery_pt(\n",
    "                            \"now\", scv.tag, gas.tag)\n",
    "            \n",
    "            if len(factorys) >= 1:\n",
    "                rand1 = random.randint(-5,5)\n",
    "                fx, fy = factorys[0].x, factorys[0].y\n",
    "                factorys_xy = (fx + rand1, fy + rand1) if self.base_top_left else (fx - rand1, fy - rand1)\n",
    "                \n",
    "            else:\n",
    "                rand1, rand2 = random.randint(-2,2), random.randint(-2,2) # x, y\n",
    "                factorys_xy = (39 + rand1, 25 + rand2) if self.base_top_left else (17 - rand1, 40 - rand2)\n",
    "\n",
    "                \n",
    "            if 0 < factorys_xy[0] < 64 and 0 < factorys_xy[1] < 64 and factorys_xy != (17,48) and factorys_xy != (41,21):\n",
    "                pass\n",
    "            else:\n",
    "                return actions.RAW_FUNCTIONS.no_op()\n",
    "\n",
    "\n",
    "            distances = self.get_distances(obs, scvs, factorys_xy)\n",
    "            scv = scvs[np.argmin(distances)]\n",
    "            return actions.RAW_FUNCTIONS.Build_Factory_pt(\n",
    "                \"now\", scv.tag, factorys_xy)\n",
    "        return actions.RAW_FUNCTIONS.no_op()\n",
    "    \n",
    "    def build_techlab_factorys(self, obs):\n",
    "        completed_factorys = self.get_my_completed_units_by_type(\n",
    "            obs, units.Terran.Factory)\n",
    "\n",
    "        \n",
    "        scvs = self.get_my_units_by_type(obs, units.Terran.SCV)\n",
    "        \n",
    "        if (len(completed_factorys) > 0 and \n",
    "            obs.observation.player.minerals >= 200):\n",
    "            \n",
    "            ftrs = self.get_my_units_by_type(obs, units.Terran.Factory)\n",
    "            \n",
    "            if ftrs:\n",
    "                for ftr in ftrs:\n",
    "                    ftr_x,ftr_y = ftr.x, ftr.y\n",
    "            \n",
    "                factorys_xy = (ftr_x,ftr_y)\n",
    "                if 0 < factorys_xy[0] < 64 and 0 < factorys_xy[1] < 64:\n",
    "                    pass\n",
    "                else:\n",
    "                    return actions.RAW_FUNCTIONS.no_op()\n",
    "\n",
    "                return actions.RAW_FUNCTIONS.Build_TechLab_Factory_pt(\n",
    "                    \"now\", ftr.tag, factorys_xy)\n",
    "            \n",
    "        return actions.RAW_FUNCTIONS.no_op()\n",
    "    \n",
    "    def train_tank(self, obs):\n",
    "        completed_factorytechlab = self.get_my_completed_units_by_type(\n",
    "            obs, units.Terran.FactoryTechLab)\n",
    "        \n",
    "        free_supply = (obs.observation.player.food_cap -\n",
    "                       obs.observation.player.food_used)\n",
    "        \n",
    "        if (len(completed_factorytechlab) > 0 and obs.observation.player.minerals >= 200):\n",
    "            \n",
    "            factorys = self.get_my_units_by_type(obs, units.Terran.Factory)[0]\n",
    "            \n",
    "            if factorys.order_length < 5:\n",
    "                return actions.RAW_FUNCTIONS.Train_SiegeTank_quick(\"now\", factorys.tag)\n",
    "        return actions.RAW_FUNCTIONS.no_op()\n",
    "    \n",
    "    ###############################################################################\n",
    "    ############################ Build Armory ##################################\n",
    "    \n",
    "    def build_armorys(self, obs):\n",
    "        completed_factory = self.get_my_completed_units_by_type(\n",
    "            obs, units.Terran.Factory)\n",
    "        \n",
    "        armorys = self.get_my_units_by_type(obs, units.Terran.Armory)\n",
    "        \n",
    "        scvs = self.get_my_units_by_type(obs, units.Terran.SCV)\n",
    "        \n",
    "        if (len(completed_factory) > 0 and\n",
    "            obs.observation.player.minerals >= 200 and\n",
    "            len(armorys) < 2 and\n",
    "            len(scvs) > 0):\n",
    "            \n",
    "            rand1, rand2 = random.randint(-2,2),random.randint(-2,2)\n",
    "            armorys_xy = (36 + rand1, 20 + rand2) if self.base_top_left else ( 20 - rand1, 50 - rand2)\n",
    "            if 0 < armorys_xy[0] < 64 and 0 < armorys_xy[1] < 64:\n",
    "                pass\n",
    "            else:\n",
    "                return actions.RAW_FUNCTIONS.no_op()\n",
    "\n",
    "\n",
    "            distances = self.get_distances(obs, scvs, armorys_xy)\n",
    "            scv = scvs[np.argmin(distances)]\n",
    "            return actions.RAW_FUNCTIONS.Build_Armory_pt(\n",
    "                \"now\", scv.tag, armorys_xy)\n",
    "\n",
    "        elif (len(completed_factory) > 0 and\n",
    "            obs.observation.player.minerals >= 200 and\n",
    "            1 <= len(armorys) and\n",
    "            len(scvs) > 0):\n",
    "            # armory upgrade 추가\n",
    "            armory = armorys[0]\n",
    "            \n",
    "            armory_xy = (armory.x, armory.y)\n",
    "            #cloak_field = self.get_my_units_by_type(obs, upgrades.Upgrades.CloakingField)[0]\n",
    "            if self.TerranVehicleWeaponsLevel1 == False:\n",
    "                self.TerranVehicleWeaponsLevel1 = True\n",
    "                return actions.RAW_FUNCTIONS.Research_TerranVehicleWeapons_quick(\"now\", armory.tag)\n",
    "            \n",
    "            elif self.TerranVehicleWeaponsLevel1 == True and self.TerranVehicleWeaponsLevel2 == False:\n",
    "                self.TerranVehicleWeaponsLevel2 = True\n",
    "                return actions.RAW_FUNCTIONS.Research_TerranVehicleWeaponsLevel2_quick(\"now\", armory.tag)\n",
    "            \n",
    "            elif self.TerranVehicleWeaponsLevel1 == True and self.TerranVehicleWeaponsLevel2 == True and self.TerranVehicleWeaponsLevel3 == False:\n",
    "                self.TerranVehicleWeaponsLevel3 = True\n",
    "                return actions.RAW_FUNCTIONS.Research_TerranVehicleWeaponsLevel3_quick(\"now\", armory.tag)\n",
    "            \n",
    "            \n",
    "            \n",
    "        return actions.RAW_FUNCTIONS.no_op()\n",
    "    \n",
    "    \n",
    "    ############################################################################################\n",
    "    #################################### StarPort ##############################################\n",
    "    def build_starports(self, obs):\n",
    "        completed_factorys = self.get_my_completed_units_by_type(\n",
    "            obs, units.Terran.Factory)\n",
    "        \n",
    "        starports = self.get_my_units_by_type(obs, units.Terran.Starport)\n",
    "        scvs = self.get_my_units_by_type(obs, units.Terran.SCV)\n",
    "        \n",
    "        if (len(completed_factorys) > 0 and\n",
    "            obs.observation.player.minerals >= 200 and \n",
    "            len(starports) < 1 and\n",
    "            len(scvs) > 0):\n",
    "            \n",
    "            # stp_x,stp_y = (22,22), (36,46) # minerals기준 중앙부쪽 좌표\n",
    "            \n",
    "            if len(starports) >= 1:\n",
    "                rand1 = random.randint(-5,5)\n",
    "                sx, sy = starports[0].x, starports[0].y\n",
    "                starport_xy = (sx + rand1, sy + rand1) if self.base_top_left else (sx - rand1, sy - rand1)\n",
    "            else:\n",
    "                rand1, rand2 = random.randint(-5,5),random.randint(-5,5)\n",
    "                starport_xy = (22 + rand1, 22 + rand2) if self.base_top_left else (36 - rand1, 46 - rand2)\n",
    "\n",
    "            \n",
    "            if 0 < starport_xy[0] < 64 and 0 < starport_xy[1] < 64:\n",
    "                pass\n",
    "            else:\n",
    "                return actions.RAW_FUNCTIONS.no_op()\n",
    "\n",
    "            distances = self.get_distances(obs, scvs, starport_xy)\n",
    "            scv = scvs[np.argmin(distances)]\n",
    "            return actions.RAW_FUNCTIONS.Build_Starport_pt(\n",
    "                \"now\", scv.tag, starport_xy)\n",
    "        \n",
    "        ####################### 스타포트 건설 후 팩토리 증설 #########################\n",
    "        elif (len(starports) >= 1 and obs.observation.player.minerals >= 200 and\n",
    "              len(completed_factorys) < 4 and len(scvs) > 0):\n",
    "            \n",
    "            if len(starports) >= 1:\n",
    "                rand1 = random.randint(-5,5)\n",
    "                sx, sy = starports[0].x, starports[0].y\n",
    "                factory_xy = (sx + rand1, sy + rand1) if self.base_top_left else (sx - rand1, sy - rand1)\n",
    "            else:\n",
    "                rand1, rand2 = random.randint(-5,5),random.randint(-5,5)\n",
    "                factory_xy = (22 + rand1, 22 + rand2) if self.base_top_left else (36 - rand1, 46 - rand2)\n",
    "\n",
    "            \n",
    "            if 0 < factory_xy[0] < 64 and 0 < factory_xy[1] < 64:\n",
    "                pass\n",
    "            else:\n",
    "                return actions.RAW_FUNCTIONS.no_op()\n",
    "\n",
    "            distances = self.get_distances(obs, scvs, factory_xy)\n",
    "            scv = scvs[np.argmin(distances)]\n",
    "            return actions.RAW_FUNCTIONS.Build_Factory_pt(\n",
    "                \"now\", scv.tag, factory_xy)\n",
    "        \n",
    "        else:\n",
    "            completed_barrackses = self.get_my_completed_units_by_type(\n",
    "            obs, units.Terran.Barracks)\n",
    "            marines = self.get_my_units_by_type(obs, units.Terran.Marine)\n",
    "\n",
    "            free_supply = (obs.observation.player.food_cap -\n",
    "                           obs.observation.player.food_used)\n",
    "\n",
    "            if (len(completed_barrackses) > 0 and obs.observation.player.minerals >= 100\n",
    "                    and free_supply > 0):\n",
    "                barracks = self.get_my_units_by_type(obs, units.Terran.Barracks)[0]\n",
    "                if barracks.order_length < 5:\n",
    "                    return actions.RAW_FUNCTIONS.Train_Marine_quick(\"now\", barracks.tag)\n",
    "            \n",
    "            \n",
    "        \n",
    "        \n",
    "        return actions.RAW_FUNCTIONS.no_op()\n",
    "    \n",
    "    def build_techlab_starports(self, obs):\n",
    "        completed_starports = self.get_my_completed_units_by_type(\n",
    "            obs, units.Terran.Starport)\n",
    "        \n",
    "        completed_starport_techlab = self.get_my_completed_units_by_type(\n",
    "            obs, units.Terran.StarportTechLab)\n",
    "                \n",
    "        if (len(completed_starports) < 3 and \n",
    "            obs.observation.player.minerals >= 200):\n",
    "            stps = self.get_my_units_by_type(obs, units.Terran.Starport)\n",
    "            \n",
    "            if stps:\n",
    "                for stp in stps:\n",
    "                    stp_x,stp_y = stp.x, stp.y\n",
    "                    \n",
    "                starport_xy = (stp_x,stp_y)\n",
    "\n",
    "                return actions.RAW_FUNCTIONS.Build_TechLab_Starport_pt(\n",
    "                    \"now\", stp.tag, starport_xy)\n",
    "            \n",
    "        ############ Cloak upgrade #########################\n",
    "        if len(completed_starport_techlab) > 0 and self.cloaking_flag:\n",
    "            # self.cloaking_flag = 0\n",
    "            cloaking = upgrades.Upgrades.CloakingField\n",
    "            \n",
    "            stp_techlab = self.get_my_units_by_type(obs, units.Terran.StarportTechLab)\n",
    "            if stp_techlab:\n",
    "                stp_tech_xy = (stp_techlab[0].x, stp_techlab[0].y)\n",
    "                cloak_field = self.get_my_units_by_type(obs, upgrades.Upgrades.CloakingField)[0]\n",
    "                \n",
    "#                 print(\"stp_tech_xy: \", stp_tech_xy)\n",
    "#                 print(\"cloaking upgrade: \",cloak_field.tag)\n",
    "                return actions.FUNCTIONS.Research_BansheeCloakingField_quick(\"now\", cloaking )\n",
    "                \n",
    "        return actions.RAW_FUNCTIONS.no_op()\n",
    "    \n",
    "    def train_banshee(self, obs):\n",
    "        completed_starporttechlab = self.get_my_completed_units_by_type(\n",
    "            obs, units.Terran.StarportTechLab)\n",
    "        \n",
    "        ravens = self.get_my_units_by_type(obs, units.Terran.Raven)\n",
    "        \n",
    "        free_supply = (obs.observation.player.food_cap -\n",
    "                       obs.observation.player.food_used)\n",
    "        \n",
    "        \n",
    "        if (len(completed_starporttechlab) > 0 and obs.observation.player.minerals >= 200\n",
    "                and free_supply > 3):\n",
    "            \n",
    "            starports = self.get_my_units_by_type(obs, units.Terran.Starport)[0]\n",
    "            \n",
    "            ############################### cloaking detecting을 위한 Raven 생산 #######################\n",
    "            if starports.order_length < 2 and len(ravens) < 3 :\n",
    "                return actions.RAW_FUNCTIONS.Train_Raven_quick(\"now\", starports.tag)\n",
    "            \n",
    "            #########################################################################################\n",
    "            \n",
    "            if starports.order_length < 5:\n",
    "                return actions.RAW_FUNCTIONS.Train_Banshee_quick(\"now\", starports.tag)\n",
    "        return actions.RAW_FUNCTIONS.no_op()\n",
    "    \n",
    "    \n",
    "    \n",
    "    \n",
    "    ############################################################################################\n",
    "   \n",
    "    def attack(self, obs):\n",
    "        marines = self.get_my_units_by_type(obs, units.Terran.Marine)\n",
    "        if 20 < len(marines):\n",
    "            completed_factorytechlab = self.get_my_completed_units_by_type(\n",
    "            obs, units.Terran.FactoryTechLab)\n",
    "        \n",
    "            free_supply = (obs.observation.player.food_cap -\n",
    "                           obs.observation.player.food_used)\n",
    "\n",
    "            if (len(completed_factorytechlab) > 0 and obs.observation.player.minerals >= 200):\n",
    "\n",
    "                factorys = self.get_my_units_by_type(obs, units.Terran.Factory)[0]\n",
    "\n",
    "                if factorys.order_length < 5:\n",
    "                    return actions.RAW_FUNCTIONS.Train_SiegeTank_quick(\"now\", factorys.tag)\n",
    "            \n",
    "#             flag = random.randint(0,2)\n",
    "#             if flag == 1:\n",
    "#                 attack_xy = (38, 44) if self.base_top_left else (19, 23)\n",
    "#             else:\n",
    "#                 attack_xy = (16, 45) if self.base_top_left else (42, 19)\n",
    "            \n",
    "            \n",
    "#             distances = self.get_distances(obs, marines, attack_xy)\n",
    "#             marine = marines[np.argmax(distances)]\n",
    "#             #marine = marines\n",
    "            \n",
    "#             x_offset = random.randint(-5, 5)\n",
    "#             y_offset = random.randint(-5, 5)\n",
    "#             return actions.RAW_FUNCTIONS.Attack_pt(\n",
    "#                 \"now\", marine.tag, (attack_xy[0] + x_offset, attack_xy[1] + y_offset))\n",
    "        else:\n",
    "            barracks = self.get_my_units_by_type(obs, units.Terran.Barracks)\n",
    "            if len(barracks) > 0:\n",
    "                barracks = barracks[0]\n",
    "                if barracks.order_length < 5:\n",
    "                    return actions.RAW_FUNCTIONS.Train_Marine_quick(\"now\", barracks.tag)\n",
    "\n",
    "        return actions.RAW_FUNCTIONS.no_op()\n",
    "    \n",
    "    def attack_all(self,obs):\n",
    "        # 추가 유닛 생길 때 마다 추가\n",
    "        marines = self.get_my_units_by_type(obs, units.Terran.Marine)\n",
    "        tanks = self.get_my_units_by_type(obs, units.Terran.SiegeTank)\n",
    "        banshees = self.get_my_units_by_type(obs, units.Terran.Banshee)\n",
    "        raven = self.get_my_units_by_type(obs, units.Terran.Raven)\n",
    "        thor = self.get_my_units_by_type(obs, units.Terran.Thor)\n",
    "        \n",
    "        sieged_tanks = self.get_my_units_by_type(obs, units.Terran.SiegeTankSieged)\n",
    "        total_tanks = tanks + sieged_tanks\n",
    "        \n",
    "        all_units = marines + total_tanks + banshees + raven + thor\n",
    "        \n",
    "        if 25 < len(all_units):\n",
    "            \n",
    "            flag = random.randint(0,1000)\n",
    "            \n",
    "            if flag%4 == 0:\n",
    "                attack_xy = (39, 45) if self.base_top_left else (19, 23)\n",
    "            elif flag%4 == 1:\n",
    "                \n",
    "                attack_xy = (39, 45) if self.base_top_left else (19, 23)\n",
    "                \n",
    "                if len(tanks) > 0:\n",
    "                    distances = self.get_distances(obs, tanks, attack_xy)\n",
    "                    tank = tanks[np.argmax(distances)]\n",
    "                    x_offset = random.randint(-1, 1)\n",
    "                    y_offset = random.randint(-1, 1)\n",
    "                    return actions.RAW_FUNCTIONS.Morph_SiegeMode_quick(\n",
    "                        \"now\", tank.tag, (attack_xy[0] + x_offset, attack_xy[1] + y_offset))\n",
    "            \n",
    "            elif flag%4 == 2:\n",
    "                attack_xy = (39, 45) if self.base_top_left else (19, 23)\n",
    "                #### siegeMode 제거 ####\n",
    "                if len(total_tanks) > 0:\n",
    "                    all_tanks_tag = [tank.tag for tank in total_tanks]\n",
    "\n",
    "                    return actions.RAW_FUNCTIONS.Morph_Unsiege_quick(\n",
    "                        \"now\", all_tanks_tag)\n",
    "            \n",
    "            else:\n",
    "                attack_xy = (17, 48) if self.base_top_left else (41, 21)\n",
    "            \n",
    "            x_offset = random.randint(-5, 5)\n",
    "            y_offset = random.randint(-5, 5)\n",
    "            \n",
    "            all_tag = [unit.tag for unit in all_units]\n",
    "            \n",
    "            return actions.RAW_FUNCTIONS.Attack_pt(\n",
    "                \"now\", all_tag, (attack_xy[0] + x_offset, attack_xy[1] + y_offset))\n",
    "        else:\n",
    "            flag = random.randint(0,1000)\n",
    "            if flag%4 == 0:\n",
    "                attack_xy = (35, 25) if self.base_top_left else (25, 40)\n",
    "            elif flag%4 == 1:\n",
    "                attack_xy = (35, 25) if self.base_top_left else (25, 40)\n",
    "\n",
    "                if len(tanks) > 0:\n",
    "                    tanks_tag = [tank.tag for tank in tanks]\n",
    "                    x_offset = random.randint(-1, 1)\n",
    "                    y_offset = random.randint(-1, 1)\n",
    "                    return actions.RAW_FUNCTIONS.Morph_SiegeMode_quick(\n",
    "                        \"now\", tanks_tag, (attack_xy[0] + x_offset, attack_xy[1] + y_offset))\n",
    "                \n",
    "                \n",
    "            elif flag%4 == 2:\n",
    "                attack_xy = (35, 25) if self.base_top_left else (25, 40)\n",
    "                \n",
    "            else:\n",
    "                attack_xy = (30, 25) if self.base_top_left else (33, 40)\n",
    "            \n",
    "            x_offset = random.randint(-1, 1)\n",
    "            y_offset = random.randint(-1, 1)\n",
    "            \n",
    "            \n",
    "            \n",
    "            all_units = marines + banshees + raven + thor\n",
    "            all_tag = [unit.tag for unit in all_units]\n",
    "            if all_tag:\n",
    "                return actions.RAW_FUNCTIONS.Attack_pt(\n",
    "                    \"now\", all_tag, (attack_xy[0] + x_offset, attack_xy[1] + y_offset))\n",
    "            \n",
    "        return actions.RAW_FUNCTIONS.no_op()\n",
    "    \n",
    "    ###################################################################################\n",
    "    ############################### Unit Controls #####################################\n",
    "    \n",
    "    def tank_control(self, obs):\n",
    "        tanks = self.get_my_units_by_type(obs, units.Terran.SiegeTank)\n",
    "        sieged_tanks = self.get_my_units_by_type(obs, units.Terran.SiegeTankSieged)\n",
    "        \n",
    "        total_tanks = tanks + sieged_tanks\n",
    "        \n",
    "        if len(total_tanks) < 8:\n",
    "            \n",
    "            if tanks:\n",
    "            \n",
    "                attack_xy = (40, 25) if self.base_top_left else (25, 40)\n",
    "\n",
    "                distances = self.get_distances(obs, tanks, attack_xy)\n",
    "                distances.sort()\n",
    "                \n",
    "                tank_tag = [t.tag for t in tanks[:4]]\n",
    "\n",
    "                x_offset = random.randint(-5, 5)\n",
    "                y_offset = random.randint(-5, 5)\n",
    "                return actions.RAW_FUNCTIONS.Morph_SiegeMode_quick(\n",
    "                    \"now\", tank_tag, (attack_xy[0] + x_offset, attack_xy[1] + y_offset))\n",
    "        else:\n",
    "            #### siegeMode 제거 ####\n",
    "            all_tanks_tag = [tank.tag for tank in total_tanks]\n",
    "            return actions.RAW_FUNCTIONS.Morph_Unsiege_quick(\n",
    "                \"now\", all_tanks_tag)\n",
    "        \n",
    "        return actions.RAW_FUNCTIONS.no_op()\n",
    "            \n",
    "    "
   ]
  },
  {
   "cell_type": "code",
   "execution_count": 310,
   "metadata": {},
   "outputs": [],
   "source": [
    "class TerranRandomAgent(TerranAgentWithRawActsAndRawObs):\n",
    "    def step(self, obs):\n",
    "        super(TerranRandomAgent, self).step(obs)\n",
    "        action = random.choice(self.actions)\n",
    "        \n",
    "        return getattr(self, action)(obs)"
   ]
  },
  {
   "cell_type": "markdown",
   "metadata": {},
   "source": [
    "### Hyperparameter\n",
    "\n",
    "하이퍼파라미터는 심층강화학습 알고리즘에서 성능에 매우 큰 영향을 미칩니다.\n",
    "이 실험에 쓰인 하이퍼파라미터는 https://github.com/chucnorrisful/dqn 실험에서 제안된 값들을 참고하였습니다.\n",
    "\n",
    "\n",
    "- self.s_dim = 21\n",
    "- self.a_dim = 6\n",
    "\n",
    "- self.lr = 1e-4 * 1\n",
    "- self.batch_size = 32\n",
    "- self.gamma = 0.99\n",
    "- self.memory_size = 200000\n",
    "- self.eps_max = 1.0\n",
    "- self.eps_min = 0.01\n",
    "- self.epsilon = 1.0\n",
    "- self.init_sampling = 4000\n",
    "- self.target_update_interval = 10\n",
    "\n",
    "- self.epsilon = max(self.eps_min, self.eps_max - self.eps_min * (self.episode_count / 50))\n",
    "\n",
    "\n",
    "![Winning rate graph](./images/rlagent_with_vanilla_dqn_score-Terran-Terran-495_Eps.png)"
   ]
  },
  {
   "cell_type": "code",
   "execution_count": 311,
   "metadata": {},
   "outputs": [],
   "source": [
    "class TerranRLAgentWithRawActsAndRawObs(TerranAgentWithRawActsAndRawObs):\n",
    "    def __init__(self):\n",
    "        super(TerranRLAgentWithRawActsAndRawObs, self).__init__()\n",
    "\n",
    "        self.s_dim = 21\n",
    "        self.a_dim = 19\n",
    "        \n",
    "        self.lr = 1e-4 * 1\n",
    "        self.batch_size = 32\n",
    "        self.gamma = 0.99\n",
    "        self.memory_size = 200000\n",
    "        self.eps_max = 1.0\n",
    "        self.eps_min = 0.01\n",
    "        self.epsilon = 1.0\n",
    "        self.init_sampling = 4000\n",
    "        self.target_update_interval = 10\n",
    "\n",
    "        self.data_file_qnet = DATA_FILE_QNET\n",
    "        self.data_file_qnet_target = DATA_FILE_QNET_TARGET\n",
    "        self.score_file = SCORE_FILE\n",
    "        \n",
    "        self.qnetwork = NaiveMultiLayerPerceptron(input_dim=self.s_dim,\n",
    "                           output_dim=self.a_dim,\n",
    "                           num_neurons=[128],\n",
    "                           hidden_act_func='ReLU',\n",
    "                           out_act_func='Identity').to(device)\n",
    "        \n",
    "        self.qnetwork_target = NaiveMultiLayerPerceptron(input_dim=self.s_dim,\n",
    "                           output_dim=self.a_dim,\n",
    "                           num_neurons=[128],\n",
    "                           hidden_act_func='ReLU',\n",
    "                           out_act_func='Identity').to(device)\n",
    "        \n",
    "        ############################################ qnet 로드하면 이전 모델이라 학습모델 인풋 아웃풋차원이 바뀜 #########\n",
    "        if os.path.isfile(self.data_file_qnet + '.pt'):\n",
    "           self.qnetwork.load_state_dict(torch.load(self.data_file_qnet + '.pt'))\n",
    "            \n",
    "        if os.path.isfile(self.data_file_qnet_target + '.pt'):\n",
    "           self.qnetwork_target.load_state_dict(torch.load(self.data_file_qnet_target + '.pt'))\n",
    "        \n",
    "        # initialize target network same as the main network.\n",
    "        self.qnetwork_target.load_state_dict(self.qnetwork.state_dict())\n",
    "\n",
    "        self.dqn = DQN(state_dim=self.s_dim,\n",
    "                             action_dim=self.a_dim,\n",
    "                             qnet=self.qnetwork,\n",
    "                             qnet_target=self.qnetwork_target,\n",
    "                             lr=self.lr,\n",
    "                             gamma=self.gamma,\n",
    "                             epsilon=self.epsilon).to(device)\n",
    "        \n",
    "        self.memory = ExperienceReplayMemory(self.memory_size)\n",
    "        \n",
    "        self.print_every = 1\n",
    "        self.cum_reward = 0\n",
    "        self.cum_loss = 0\n",
    "        self.episode_count = 0\n",
    "        \n",
    "        self.new_game()\n",
    "\n",
    "\n",
    "    def reset(self):\n",
    "        super(TerranRLAgentWithRawActsAndRawObs, self).reset()\n",
    "        self.new_game()\n",
    "\n",
    "    def new_game(self):\n",
    "        self.base_top_left = None\n",
    "        self.previous_state = None\n",
    "        self.previous_action = None\n",
    "        self.cum_reward = 0\n",
    "        self.cum_loss = 0\n",
    "        \n",
    "        # epsilon scheduling\n",
    "        # slowly decaying_epsilon\n",
    "        self.epsilon = max(self.eps_min, self.eps_max - self.eps_min * (self.episode_count / 50))\n",
    "        self.dqn.epsilon = torch.tensor(self.epsilon).to(device)\n",
    "        \n",
    "\n",
    "    def get_state(self, obs):\n",
    "        scvs = self.get_my_units_by_type(obs, units.Terran.SCV)\n",
    "        idle_scvs = [scv for scv in scvs if scv.order_length == 0]\n",
    "        command_centers = self.get_my_units_by_type(obs, units.Terran.CommandCenter)\n",
    "        supply_depots = self.get_my_units_by_type(obs, units.Terran.SupplyDepot)\n",
    "        completed_supply_depots = self.get_my_completed_units_by_type(\n",
    "            obs, units.Terran.SupplyDepot)\n",
    "        barrackses = self.get_my_units_by_type(obs, units.Terran.Barracks)\n",
    "        completed_barrackses = self.get_my_completed_units_by_type(\n",
    "            obs, units.Terran.Barracks)\n",
    "        marines = self.get_my_units_by_type(obs, units.Terran.Marine)\n",
    "\n",
    "        queued_marines = (completed_barrackses[0].order_length\n",
    "        if len(completed_barrackses) > 0 else 0)\n",
    "\n",
    "        free_supply = (obs.observation.player.food_cap -\n",
    "                       obs.observation.player.food_used)\n",
    "        can_afford_supply_depot = obs.observation.player.minerals >= 100\n",
    "        can_afford_barracks = obs.observation.player.minerals >= 150\n",
    "        can_afford_marine = obs.observation.player.minerals >= 100\n",
    "\n",
    "        enemy_scvs = self.get_enemy_units_by_type(obs, units.Terran.SCV)\n",
    "        enemy_idle_scvs = [scv for scv in enemy_scvs if scv.order_length == 0]\n",
    "        enemy_command_centers = self.get_enemy_units_by_type(\n",
    "            obs, units.Terran.CommandCenter)\n",
    "        enemy_supply_depots = self.get_enemy_units_by_type(\n",
    "            obs, units.Terran.SupplyDepot)\n",
    "        enemy_completed_supply_depots = self.get_enemy_completed_units_by_type(\n",
    "            obs, units.Terran.SupplyDepot)\n",
    "        enemy_barrackses = self.get_enemy_units_by_type(obs, units.Terran.Barracks)\n",
    "        enemy_completed_barrackses = self.get_enemy_completed_units_by_type(\n",
    "            obs, units.Terran.Barracks)\n",
    "        enemy_marines = self.get_enemy_units_by_type(obs, units.Terran.Marine)\n",
    "\n",
    "        return (len(command_centers),\n",
    "                len(scvs),\n",
    "                len(idle_scvs),\n",
    "                len(supply_depots),\n",
    "                len(completed_supply_depots),\n",
    "                len(barrackses),\n",
    "                len(completed_barrackses),\n",
    "                len(marines),\n",
    "                queued_marines,\n",
    "                free_supply,\n",
    "                can_afford_supply_depot,\n",
    "                can_afford_barracks,\n",
    "                can_afford_marine,\n",
    "                len(enemy_command_centers),\n",
    "                len(enemy_scvs),\n",
    "                len(enemy_idle_scvs),\n",
    "                len(enemy_supply_depots),\n",
    "                len(enemy_completed_supply_depots),\n",
    "                len(enemy_barrackses),\n",
    "                len(enemy_completed_barrackses),\n",
    "                len(enemy_marines))\n",
    "\n",
    "    def step(self, obs):\n",
    "        super(TerranRLAgentWithRawActsAndRawObs, self).step(obs)\n",
    "        \n",
    "        #time.sleep(0.5)\n",
    "        \n",
    "        state = self.get_state(obs)\n",
    "        state = torch.tensor(state).float().view(1, self.s_dim).to(device)\n",
    "        action_idx = self.dqn.choose_action(state)\n",
    "        action = self.actions[action_idx]\n",
    "        done = True if obs.last() else False\n",
    "\n",
    "        if self.previous_action is not None:\n",
    "            experience = (self.previous_state.to(device),\n",
    "                          torch.tensor(self.previous_action).view(1, 1).to(device),\n",
    "                          torch.tensor(obs.reward).view(1, 1).to(device),\n",
    "                          state.to(device),\n",
    "                          torch.tensor(done).view(1, 1).to(device))\n",
    "            self.memory.push(experience)\n",
    "        \n",
    "        self.cum_reward += obs.reward\n",
    "        self.previous_state = state\n",
    "        self.previous_action = action_idx\n",
    "        \n",
    "        if obs.last():\n",
    "            self.episode_count = self.episode_count + 1\n",
    "            \n",
    "            if len(self.memory) >= self.init_sampling:\n",
    "                # training dqn\n",
    "                sampled_exps = self.memory.sample(self.batch_size)\n",
    "                sampled_exps = prepare_training_inputs(sampled_exps, device)\n",
    "                self.dqn.learn(*sampled_exps)\n",
    "\n",
    "            if self.episode_count % self.target_update_interval == 0:\n",
    "                self.dqn.qnet_target.load_state_dict(self.dqn.qnet.state_dict())\n",
    "\n",
    "            if self.episode_count % self.print_every == 0:\n",
    "                msg = (self.episode_count, self.cum_reward, self.epsilon)\n",
    "                print(\"Episode : {:4.0f} | Cumulative Reward : {:4.0f} | Epsilon : {:.3f}\".format(*msg))\n",
    "            \n",
    "            torch.save(self.dqn.qnet.state_dict(), self.data_file_qnet + '.pt')\n",
    "            torch.save(self.dqn.qnet_target.state_dict(), self.data_file_qnet_target + '.pt')\n",
    "\n",
    "            scores_window.append(obs.reward)  # save most recent reward\n",
    "            win_rate = scores_window.count(1)/len(scores_window)*100\n",
    "            tie_rate = scores_window.count(0)/len(scores_window)*100\n",
    "            lost_rate = scores_window.count(-1)/len(scores_window)*100\n",
    "            \n",
    "            scores.append([win_rate, tie_rate, lost_rate])  # save most recent score(win_rate, tie_rate, lost_rate)\n",
    "            with open(self.score_file + '.txt', \"wb\") as fp:\n",
    "                pickle.dump(scores, fp)\n",
    "            \n",
    "            #writer.add_scalar(\"Loss/train\", self.cum_loss/obs.observation.game_loop, self.episode_count)\n",
    "            writer.add_scalar(\"Score\", self.cum_reward, self.episode_count)\n",
    "\n",
    "        return getattr(self, action)(obs)"
   ]
  },
  {
   "cell_type": "code",
   "execution_count": 312,
   "metadata": {
    "scrolled": false
   },
   "outputs": [
    {
     "name": "stderr",
     "output_type": "stream",
     "text": [
      "I0923 17:30:18.168211 4616515008 sc_process.py:135] Launching SC2: /Applications/StarCraft II/Versions/Base81102/SC2.app/Contents/MacOS/SC2 -listen 127.0.0.1 -port 16263 -dataDir /Applications/StarCraft II/ -tempDir /var/folders/r1/x6k135_915z463fc7lc4hkp40000gn/T/sc-8onag9cd/ -displayMode 0 -windowwidth 640 -windowheight 480 -windowx 50 -windowy 50\n",
      "I0923 17:30:18.201462 4616515008 remote_controller.py:167] Connecting to: ws://127.0.0.1:16263/sc2api, attempt: 0, running: True\n",
      "I0923 17:30:19.208933 4616515008 remote_controller.py:167] Connecting to: ws://127.0.0.1:16263/sc2api, attempt: 1, running: True\n",
      "I0923 17:30:20.212658 4616515008 remote_controller.py:167] Connecting to: ws://127.0.0.1:16263/sc2api, attempt: 2, running: True\n",
      "I0923 17:30:21.214398 4616515008 remote_controller.py:167] Connecting to: ws://127.0.0.1:16263/sc2api, attempt: 3, running: True\n",
      "I0923 17:30:22.218235 4616515008 remote_controller.py:167] Connecting to: ws://127.0.0.1:16263/sc2api, attempt: 4, running: True\n",
      "I0923 17:30:23.221146 4616515008 remote_controller.py:167] Connecting to: ws://127.0.0.1:16263/sc2api, attempt: 5, running: True\n",
      "I0923 17:30:24.226886 4616515008 remote_controller.py:167] Connecting to: ws://127.0.0.1:16263/sc2api, attempt: 6, running: True\n",
      "I0923 17:30:25.232561 4616515008 remote_controller.py:167] Connecting to: ws://127.0.0.1:16263/sc2api, attempt: 7, running: True\n",
      "I0923 17:30:26.235045 4616515008 remote_controller.py:167] Connecting to: ws://127.0.0.1:16263/sc2api, attempt: 8, running: True\n",
      "I0923 17:30:27.238913 4616515008 remote_controller.py:167] Connecting to: ws://127.0.0.1:16263/sc2api, attempt: 9, running: True\n",
      "I0923 17:30:28.240344 4616515008 remote_controller.py:167] Connecting to: ws://127.0.0.1:16263/sc2api, attempt: 10, running: True\n",
      "I0923 17:30:29.242531 4616515008 remote_controller.py:167] Connecting to: ws://127.0.0.1:16263/sc2api, attempt: 11, running: True\n",
      "I0923 17:30:30.247596 4616515008 remote_controller.py:167] Connecting to: ws://127.0.0.1:16263/sc2api, attempt: 12, running: True\n",
      "I0923 17:30:31.252115 4616515008 remote_controller.py:167] Connecting to: ws://127.0.0.1:16263/sc2api, attempt: 13, running: True\n",
      "I0923 17:30:32.255697 4616515008 remote_controller.py:167] Connecting to: ws://127.0.0.1:16263/sc2api, attempt: 14, running: True\n",
      "I0923 17:30:33.259729 4616515008 remote_controller.py:167] Connecting to: ws://127.0.0.1:16263/sc2api, attempt: 15, running: True\n",
      "I0923 17:30:34.262794 4616515008 remote_controller.py:167] Connecting to: ws://127.0.0.1:16263/sc2api, attempt: 16, running: True\n",
      "I0923 17:30:35.264199 4616515008 remote_controller.py:167] Connecting to: ws://127.0.0.1:16263/sc2api, attempt: 17, running: True\n",
      "I0923 17:30:36.266314 4616515008 remote_controller.py:167] Connecting to: ws://127.0.0.1:16263/sc2api, attempt: 18, running: True\n",
      "I0923 17:30:37.269299 4616515008 remote_controller.py:167] Connecting to: ws://127.0.0.1:16263/sc2api, attempt: 19, running: True\n",
      "I0923 17:30:38.271928 4616515008 remote_controller.py:167] Connecting to: ws://127.0.0.1:16263/sc2api, attempt: 20, running: True\n",
      "I0923 17:30:39.275542 4616515008 remote_controller.py:167] Connecting to: ws://127.0.0.1:16263/sc2api, attempt: 21, running: True\n",
      "I0923 17:30:40.278733 4616515008 remote_controller.py:167] Connecting to: ws://127.0.0.1:16263/sc2api, attempt: 22, running: True\n",
      "I0923 17:30:41.282038 4616515008 remote_controller.py:167] Connecting to: ws://127.0.0.1:16263/sc2api, attempt: 23, running: True\n",
      "I0923 17:30:42.286321 4616515008 remote_controller.py:167] Connecting to: ws://127.0.0.1:16263/sc2api, attempt: 24, running: True\n",
      "I0923 17:30:51.486256 4616515008 sc2_env.py:314] Environment is ready\n",
      "I0923 17:30:51.510584 4616515008 sc2_env.py:507] Starting episode 1: [terran, random] on Simple64\n",
      "I0923 17:32:30.449421 4616515008 sc2_env.py:752] Environment Close\n",
      "I0923 17:32:57.055679 4616515008 sc2_env.py:725] Episode 1 finished after 16568 game steps. Outcome: [1], reward: [1], score: [14369]\n"
     ]
    },
    {
     "name": "stdout",
     "output_type": "stream",
     "text": [
      "Episode :    1 | Cumulative Reward :    1 | Epsilon : 1.000\n"
     ]
    },
    {
     "name": "stderr",
     "output_type": "stream",
     "text": [
      "I0923 17:33:02.703395 4616515008 sc2_env.py:507] Starting episode 2: [terran, random] on Simple64\n",
      "I0923 17:52:48.791518 4616515008 sc2_env.py:725] Episode 2 finished after 15928 game steps. Outcome: [1], reward: [1], score: [10217]\n"
     ]
    },
    {
     "name": "stdout",
     "output_type": "stream",
     "text": [
      "Episode :    2 | Cumulative Reward :    1 | Epsilon : 1.000\n"
     ]
    },
    {
     "name": "stderr",
     "output_type": "stream",
     "text": [
      "I0923 17:53:03.919356 4616515008 sc2_env.py:507] Starting episode 3: [terran, random] on Simple64\n",
      "I0923 20:04:43.126112 4616515008 sc2_env.py:725] Episode 3 finished after 27344 game steps. Outcome: [1], reward: [1], score: [21760]\n"
     ]
    },
    {
     "name": "stdout",
     "output_type": "stream",
     "text": [
      "Episode :    3 | Cumulative Reward :    1 | Epsilon : 1.000\n"
     ]
    },
    {
     "name": "stderr",
     "output_type": "stream",
     "text": [
      "I0923 20:04:58.857953 4616515008 sc2_env.py:507] Starting episode 4: [terran, random] on Simple64\n",
      "I0923 20:10:01.889935 4616515008 sc2_env.py:725] Episode 4 finished after 16368 game steps. Outcome: [1], reward: [1], score: [16973]\n"
     ]
    },
    {
     "name": "stdout",
     "output_type": "stream",
     "text": [
      "Episode :    4 | Cumulative Reward :    1 | Epsilon : 0.999\n"
     ]
    },
    {
     "name": "stderr",
     "output_type": "stream",
     "text": [
      "I0923 20:10:07.110831 4616515008 sc2_env.py:507] Starting episode 5: [terran, random] on Simple64\n",
      "I0923 20:12:35.086009 4616515008 sc2_env.py:725] Episode 5 finished after 16280 game steps. Outcome: [1], reward: [1], score: [14627]\n"
     ]
    },
    {
     "name": "stdout",
     "output_type": "stream",
     "text": [
      "Episode :    5 | Cumulative Reward :    1 | Epsilon : 0.999\n"
     ]
    },
    {
     "name": "stderr",
     "output_type": "stream",
     "text": [
      "I0923 20:12:40.579385 4616515008 sc2_env.py:507] Starting episode 6: [terran, random] on Simple64\n",
      "I0923 20:14:37.964623 4616515008 sc2_env.py:725] Episode 6 finished after 13200 game steps. Outcome: [1], reward: [1], score: [10723]\n"
     ]
    },
    {
     "name": "stdout",
     "output_type": "stream",
     "text": [
      "Episode :    6 | Cumulative Reward :    1 | Epsilon : 0.999\n"
     ]
    },
    {
     "name": "stderr",
     "output_type": "stream",
     "text": [
      "I0923 20:14:43.582309 4616515008 sc2_env.py:507] Starting episode 7: [terran, random] on Simple64\n",
      "I0923 20:17:09.298066 4616515008 sc2_env.py:725] Episode 7 finished after 16416 game steps. Outcome: [1], reward: [1], score: [14551]\n"
     ]
    },
    {
     "name": "stdout",
     "output_type": "stream",
     "text": [
      "Episode :    7 | Cumulative Reward :    1 | Epsilon : 0.999\n"
     ]
    },
    {
     "name": "stderr",
     "output_type": "stream",
     "text": [
      "I0923 20:17:14.780634 4616515008 sc2_env.py:507] Starting episode 8: [terran, random] on Simple64\n",
      "I0923 20:19:48.146239 4616515008 sc2_env.py:725] Episode 8 finished after 16648 game steps. Outcome: [1], reward: [1], score: [12422]\n"
     ]
    },
    {
     "name": "stdout",
     "output_type": "stream",
     "text": [
      "Episode :    8 | Cumulative Reward :    1 | Epsilon : 0.999\n"
     ]
    },
    {
     "name": "stderr",
     "output_type": "stream",
     "text": [
      "I0923 20:19:53.552666 4616515008 sc2_env.py:507] Starting episode 9: [terran, random] on Simple64\n",
      "I0923 20:22:09.247277 4616515008 sc2_env.py:725] Episode 9 finished after 14928 game steps. Outcome: [1], reward: [1], score: [11887]\n"
     ]
    },
    {
     "name": "stdout",
     "output_type": "stream",
     "text": [
      "Episode :    9 | Cumulative Reward :    1 | Epsilon : 0.998\n"
     ]
    },
    {
     "name": "stderr",
     "output_type": "stream",
     "text": [
      "I0923 20:22:15.883099 4616515008 sc2_env.py:507] Starting episode 10: [terran, random] on Simple64\n",
      "I0923 20:24:27.423833 4616515008 sc2_env.py:725] Episode 10 finished after 13968 game steps. Outcome: [1], reward: [1], score: [12033]\n"
     ]
    },
    {
     "name": "stdout",
     "output_type": "stream",
     "text": [
      "Episode :   10 | Cumulative Reward :    1 | Epsilon : 0.998\n"
     ]
    },
    {
     "name": "stderr",
     "output_type": "stream",
     "text": [
      "I0923 20:24:33.018250 4616515008 sc2_env.py:507] Starting episode 11: [terran, random] on Simple64\n",
      "I0923 20:26:27.304901 4616515008 sc2_env.py:725] Episode 11 finished after 13072 game steps. Outcome: [1], reward: [1], score: [12881]\n"
     ]
    },
    {
     "name": "stdout",
     "output_type": "stream",
     "text": [
      "Episode :   11 | Cumulative Reward :    1 | Epsilon : 0.998\n"
     ]
    },
    {
     "name": "stderr",
     "output_type": "stream",
     "text": [
      "I0923 20:26:32.759738 4616515008 sc2_env.py:507] Starting episode 12: [terran, random] on Simple64\n",
      "I0923 20:29:11.363915 4616515008 sc2_env.py:725] Episode 12 finished after 17000 game steps. Outcome: [1], reward: [1], score: [14653]\n"
     ]
    },
    {
     "name": "stdout",
     "output_type": "stream",
     "text": [
      "Episode :   12 | Cumulative Reward :    1 | Epsilon : 0.998\n"
     ]
    },
    {
     "name": "stderr",
     "output_type": "stream",
     "text": [
      "I0923 20:29:17.222863 4616515008 sc2_env.py:507] Starting episode 13: [terran, random] on Simple64\n",
      "I0923 20:33:37.607869 4616515008 sc2_env.py:725] Episode 13 finished after 25840 game steps. Outcome: [-1], reward: [-1], score: [2896]\n"
     ]
    },
    {
     "name": "stdout",
     "output_type": "stream",
     "text": [
      "Episode :   13 | Cumulative Reward :   -1 | Epsilon : 0.998\n"
     ]
    },
    {
     "name": "stderr",
     "output_type": "stream",
     "text": [
      "I0923 20:33:43.498270 4616515008 sc2_env.py:507] Starting episode 14: [terran, random] on Simple64\n",
      "I0923 20:36:25.252602 4616515008 sc2_env.py:725] Episode 14 finished after 17648 game steps. Outcome: [1], reward: [1], score: [13226]\n"
     ]
    },
    {
     "name": "stdout",
     "output_type": "stream",
     "text": [
      "Episode :   14 | Cumulative Reward :    1 | Epsilon : 0.997\n"
     ]
    },
    {
     "name": "stderr",
     "output_type": "stream",
     "text": [
      "I0923 20:36:30.851325 4616515008 sc2_env.py:507] Starting episode 15: [terran, random] on Simple64\n",
      "I0923 20:40:37.500190 4616515008 sc2_env.py:725] Episode 15 finished after 27472 game steps. Outcome: [1], reward: [1], score: [12644]\n"
     ]
    },
    {
     "name": "stdout",
     "output_type": "stream",
     "text": [
      "Episode :   15 | Cumulative Reward :    1 | Epsilon : 0.997\n"
     ]
    },
    {
     "name": "stderr",
     "output_type": "stream",
     "text": [
      "I0923 20:40:43.187558 4616515008 sc2_env.py:507] Starting episode 16: [terran, random] on Simple64\n",
      "I0923 20:42:53.821973 4616515008 sc2_env.py:725] Episode 16 finished after 14720 game steps. Outcome: [-1], reward: [-1], score: [1736]\n"
     ]
    },
    {
     "name": "stdout",
     "output_type": "stream",
     "text": [
      "Episode :   16 | Cumulative Reward :   -1 | Epsilon : 0.997\n"
     ]
    },
    {
     "name": "stderr",
     "output_type": "stream",
     "text": [
      "I0923 20:42:59.726854 4616515008 sc2_env.py:507] Starting episode 17: [terran, random] on Simple64\n",
      "I0923 20:44:54.462201 4616515008 sc2_env.py:725] Episode 17 finished after 12824 game steps. Outcome: [1], reward: [1], score: [11232]\n"
     ]
    },
    {
     "name": "stdout",
     "output_type": "stream",
     "text": [
      "Episode :   17 | Cumulative Reward :    1 | Epsilon : 0.997\n"
     ]
    },
    {
     "name": "stderr",
     "output_type": "stream",
     "text": [
      "I0923 20:44:59.662102 4616515008 sc2_env.py:507] Starting episode 18: [terran, random] on Simple64\n",
      "I0923 20:47:29.557535 4616515008 sc2_env.py:725] Episode 18 finished after 15544 game steps. Outcome: [1], reward: [1], score: [14590]\n"
     ]
    },
    {
     "name": "stdout",
     "output_type": "stream",
     "text": [
      "Episode :   18 | Cumulative Reward :    1 | Epsilon : 0.997\n"
     ]
    },
    {
     "name": "stderr",
     "output_type": "stream",
     "text": [
      "I0923 20:47:35.130117 4616515008 sc2_env.py:507] Starting episode 19: [terran, random] on Simple64\n",
      "I0923 20:49:59.720122 4616515008 sc2_env.py:725] Episode 19 finished after 15432 game steps. Outcome: [1], reward: [1], score: [13961]\n"
     ]
    },
    {
     "name": "stdout",
     "output_type": "stream",
     "text": [
      "Episode :   19 | Cumulative Reward :    1 | Epsilon : 0.996\n"
     ]
    },
    {
     "name": "stderr",
     "output_type": "stream",
     "text": [
      "I0923 20:50:05.205850 4616515008 sc2_env.py:507] Starting episode 20: [terran, random] on Simple64\n",
      "I0923 20:52:49.653850 4616515008 sc2_env.py:725] Episode 20 finished after 18112 game steps. Outcome: [1], reward: [1], score: [13243]\n"
     ]
    },
    {
     "name": "stdout",
     "output_type": "stream",
     "text": [
      "Episode :   20 | Cumulative Reward :    1 | Epsilon : 0.996\n"
     ]
    },
    {
     "name": "stderr",
     "output_type": "stream",
     "text": [
      "I0923 20:52:55.540073 4616515008 sc2_env.py:507] Starting episode 21: [terran, random] on Simple64\n",
      "I0923 20:54:40.145558 4616515008 sc2_env.py:725] Episode 21 finished after 11568 game steps. Outcome: [1], reward: [1], score: [11136]\n"
     ]
    },
    {
     "name": "stdout",
     "output_type": "stream",
     "text": [
      "Episode :   21 | Cumulative Reward :    1 | Epsilon : 0.996\n"
     ]
    },
    {
     "name": "stderr",
     "output_type": "stream",
     "text": [
      "I0923 20:54:45.476739 4616515008 sc2_env.py:507] Starting episode 22: [terran, random] on Simple64\n",
      "I0923 20:57:41.223877 4616515008 sc2_env.py:725] Episode 22 finished after 18296 game steps. Outcome: [1], reward: [1], score: [17273]\n"
     ]
    },
    {
     "name": "stdout",
     "output_type": "stream",
     "text": [
      "Episode :   22 | Cumulative Reward :    1 | Epsilon : 0.996\n"
     ]
    },
    {
     "name": "stderr",
     "output_type": "stream",
     "text": [
      "I0923 20:57:46.211020 4616515008 sc2_env.py:507] Starting episode 23: [terran, random] on Simple64\n",
      "I0923 20:59:49.068799 4616515008 sc2_env.py:725] Episode 23 finished after 13304 game steps. Outcome: [1], reward: [1], score: [13050]\n"
     ]
    },
    {
     "name": "stdout",
     "output_type": "stream",
     "text": [
      "Episode :   23 | Cumulative Reward :    1 | Epsilon : 0.996\n"
     ]
    },
    {
     "name": "stderr",
     "output_type": "stream",
     "text": [
      "I0923 20:59:54.083331 4616515008 sc2_env.py:507] Starting episode 24: [terran, random] on Simple64\n",
      "I0923 21:01:50.597791 4616515008 sc2_env.py:725] Episode 24 finished after 12752 game steps. Outcome: [1], reward: [1], score: [12785]\n"
     ]
    },
    {
     "name": "stdout",
     "output_type": "stream",
     "text": [
      "Episode :   24 | Cumulative Reward :    1 | Epsilon : 0.995\n"
     ]
    },
    {
     "name": "stderr",
     "output_type": "stream",
     "text": [
      "I0923 21:01:56.151618 4616515008 sc2_env.py:507] Starting episode 25: [terran, random] on Simple64\n",
      "I0923 21:03:54.071829 4616515008 sc2_env.py:725] Episode 25 finished after 13432 game steps. Outcome: [1], reward: [1], score: [12669]\n"
     ]
    },
    {
     "name": "stdout",
     "output_type": "stream",
     "text": [
      "Episode :   25 | Cumulative Reward :    1 | Epsilon : 0.995\n"
     ]
    },
    {
     "name": "stderr",
     "output_type": "stream",
     "text": [
      "I0923 21:03:59.619533 4616515008 sc2_env.py:507] Starting episode 26: [terran, random] on Simple64\n",
      "I0923 21:08:04.411098 4616515008 sc2_env.py:725] Episode 26 finished after 25080 game steps. Outcome: [1], reward: [1], score: [17817]\n"
     ]
    },
    {
     "name": "stdout",
     "output_type": "stream",
     "text": [
      "Episode :   26 | Cumulative Reward :    1 | Epsilon : 0.995\n"
     ]
    },
    {
     "name": "stderr",
     "output_type": "stream",
     "text": [
      "I0923 21:08:10.225095 4616515008 sc2_env.py:507] Starting episode 27: [terran, random] on Simple64\n",
      "I0923 21:11:02.351254 4616515008 sc2_env.py:725] Episode 27 finished after 18168 game steps. Outcome: [1], reward: [1], score: [11639]\n"
     ]
    },
    {
     "name": "stdout",
     "output_type": "stream",
     "text": [
      "Episode :   27 | Cumulative Reward :    1 | Epsilon : 0.995\n"
     ]
    },
    {
     "name": "stderr",
     "output_type": "stream",
     "text": [
      "I0923 21:11:07.965391 4616515008 sc2_env.py:507] Starting episode 28: [terran, random] on Simple64\n",
      "I0923 21:13:25.293423 4616515008 sc2_env.py:725] Episode 28 finished after 15088 game steps. Outcome: [1], reward: [1], score: [12456]\n"
     ]
    },
    {
     "name": "stdout",
     "output_type": "stream",
     "text": [
      "Episode :   28 | Cumulative Reward :    1 | Epsilon : 0.995\n"
     ]
    },
    {
     "name": "stderr",
     "output_type": "stream",
     "text": [
      "I0923 21:13:30.900918 4616515008 sc2_env.py:507] Starting episode 29: [terran, random] on Simple64\n",
      "I0923 21:15:33.072038 4616515008 sc2_env.py:725] Episode 29 finished after 13312 game steps. Outcome: [1], reward: [1], score: [13661]\n"
     ]
    },
    {
     "name": "stdout",
     "output_type": "stream",
     "text": [
      "Episode :   29 | Cumulative Reward :    1 | Epsilon : 0.994\n"
     ]
    },
    {
     "name": "stderr",
     "output_type": "stream",
     "text": [
      "I0923 21:15:38.423583 4616515008 sc2_env.py:507] Starting episode 30: [terran, random] on Simple64\n",
      "I0923 21:17:36.674628 4616515008 sc2_env.py:725] Episode 30 finished after 13448 game steps. Outcome: [1], reward: [1], score: [13544]\n"
     ]
    },
    {
     "name": "stdout",
     "output_type": "stream",
     "text": [
      "Episode :   30 | Cumulative Reward :    1 | Epsilon : 0.994\n"
     ]
    },
    {
     "name": "stderr",
     "output_type": "stream",
     "text": [
      "I0923 21:17:42.158473 4616515008 sc2_env.py:507] Starting episode 31: [terran, random] on Simple64\n",
      "I0923 21:20:21.968719 4616515008 sc2_env.py:725] Episode 31 finished after 16672 game steps. Outcome: [1], reward: [1], score: [17376]\n"
     ]
    },
    {
     "name": "stdout",
     "output_type": "stream",
     "text": [
      "Episode :   31 | Cumulative Reward :    1 | Epsilon : 0.994\n"
     ]
    },
    {
     "name": "stderr",
     "output_type": "stream",
     "text": [
      "I0923 21:20:27.827486 4616515008 sc2_env.py:507] Starting episode 32: [terran, random] on Simple64\n",
      "I0923 21:22:37.745107 4616515008 sc2_env.py:725] Episode 32 finished after 13992 game steps. Outcome: [1], reward: [1], score: [12375]\n"
     ]
    },
    {
     "name": "stdout",
     "output_type": "stream",
     "text": [
      "Episode :   32 | Cumulative Reward :    1 | Epsilon : 0.994\n"
     ]
    },
    {
     "name": "stderr",
     "output_type": "stream",
     "text": [
      "I0923 21:22:43.169146 4616515008 sc2_env.py:507] Starting episode 33: [terran, random] on Simple64\n",
      "I0923 21:27:18.026466 4616515008 sc2_env.py:725] Episode 33 finished after 27528 game steps. Outcome: [1], reward: [1], score: [11602]\n"
     ]
    },
    {
     "name": "stdout",
     "output_type": "stream",
     "text": [
      "Episode :   33 | Cumulative Reward :    1 | Epsilon : 0.994\n"
     ]
    },
    {
     "name": "stderr",
     "output_type": "stream",
     "text": [
      "I0923 21:27:23.378626 4616515008 sc2_env.py:507] Starting episode 34: [terran, random] on Simple64\n",
      "I0923 21:31:26.578666 4616515008 sc2_env.py:725] Episode 34 finished after 23776 game steps. Outcome: [1], reward: [1], score: [16832]\n"
     ]
    },
    {
     "name": "stdout",
     "output_type": "stream",
     "text": [
      "Episode :   34 | Cumulative Reward :    1 | Epsilon : 0.993\n"
     ]
    },
    {
     "name": "stderr",
     "output_type": "stream",
     "text": [
      "I0923 21:31:32.249015 4616515008 sc2_env.py:507] Starting episode 35: [terran, random] on Simple64\n",
      "I0923 21:33:58.995990 4616515008 sc2_env.py:725] Episode 35 finished after 15648 game steps. Outcome: [1], reward: [1], score: [17047]\n"
     ]
    },
    {
     "name": "stdout",
     "output_type": "stream",
     "text": [
      "Episode :   35 | Cumulative Reward :    1 | Epsilon : 0.993\n"
     ]
    },
    {
     "name": "stderr",
     "output_type": "stream",
     "text": [
      "I0923 21:34:04.722221 4616515008 sc2_env.py:507] Starting episode 36: [terran, random] on Simple64\n",
      "I0923 21:37:08.697685 4616515008 sc2_env.py:725] Episode 36 finished after 18992 game steps. Outcome: [1], reward: [1], score: [16046]\n"
     ]
    },
    {
     "name": "stdout",
     "output_type": "stream",
     "text": [
      "Episode :   36 | Cumulative Reward :    1 | Epsilon : 0.993\n"
     ]
    },
    {
     "name": "stderr",
     "output_type": "stream",
     "text": [
      "I0923 21:37:14.226159 4616515008 sc2_env.py:507] Starting episode 37: [terran, random] on Simple64\n",
      "I0923 21:39:24.222639 4616515008 sc2_env.py:725] Episode 37 finished after 14208 game steps. Outcome: [1], reward: [1], score: [9964]\n"
     ]
    },
    {
     "name": "stdout",
     "output_type": "stream",
     "text": [
      "Episode :   37 | Cumulative Reward :    1 | Epsilon : 0.993\n"
     ]
    },
    {
     "name": "stderr",
     "output_type": "stream",
     "text": [
      "I0923 21:39:30.030199 4616515008 sc2_env.py:507] Starting episode 38: [terran, random] on Simple64\n",
      "I0923 21:41:48.826510 4616515008 sc2_env.py:725] Episode 38 finished after 15024 game steps. Outcome: [1], reward: [1], score: [13931]\n"
     ]
    },
    {
     "name": "stdout",
     "output_type": "stream",
     "text": [
      "Episode :   38 | Cumulative Reward :    1 | Epsilon : 0.993\n"
     ]
    },
    {
     "name": "stderr",
     "output_type": "stream",
     "text": [
      "I0923 21:41:54.634484 4616515008 sc2_env.py:507] Starting episode 39: [terran, random] on Simple64\n",
      "I0923 21:46:08.844421 4616515008 sc2_env.py:725] Episode 39 finished after 25456 game steps. Outcome: [1], reward: [1], score: [17542]\n"
     ]
    },
    {
     "name": "stdout",
     "output_type": "stream",
     "text": [
      "Episode :   39 | Cumulative Reward :    1 | Epsilon : 0.992\n"
     ]
    },
    {
     "name": "stderr",
     "output_type": "stream",
     "text": [
      "I0923 21:46:14.175781 4616515008 sc2_env.py:507] Starting episode 40: [terran, random] on Simple64\n",
      "I0923 21:47:48.513042 4616515008 sc2_env.py:725] Episode 40 finished after 10832 game steps. Outcome: [1], reward: [1], score: [9238]\n"
     ]
    },
    {
     "name": "stdout",
     "output_type": "stream",
     "text": [
      "Episode :   40 | Cumulative Reward :    1 | Epsilon : 0.992\n"
     ]
    },
    {
     "name": "stderr",
     "output_type": "stream",
     "text": [
      "I0923 21:47:54.045701 4616515008 sc2_env.py:507] Starting episode 41: [terran, random] on Simple64\n",
      "I0923 21:51:04.181494 4616515008 sc2_env.py:725] Episode 41 finished after 18568 game steps. Outcome: [1], reward: [1], score: [15938]\n"
     ]
    },
    {
     "name": "stdout",
     "output_type": "stream",
     "text": [
      "Episode :   41 | Cumulative Reward :    1 | Epsilon : 0.992\n"
     ]
    },
    {
     "name": "stderr",
     "output_type": "stream",
     "text": [
      "I0923 21:51:09.324012 4616515008 sc2_env.py:507] Starting episode 42: [terran, random] on Simple64\n",
      "I0923 21:54:10.532706 4616515008 sc2_env.py:725] Episode 42 finished after 19384 game steps. Outcome: [1], reward: [1], score: [12648]\n"
     ]
    },
    {
     "name": "stdout",
     "output_type": "stream",
     "text": [
      "Episode :   42 | Cumulative Reward :    1 | Epsilon : 0.992\n"
     ]
    },
    {
     "name": "stderr",
     "output_type": "stream",
     "text": [
      "I0923 21:54:15.930821 4616515008 sc2_env.py:507] Starting episode 43: [terran, random] on Simple64\n",
      "I0923 21:56:23.578463 4616515008 sc2_env.py:725] Episode 43 finished after 14040 game steps. Outcome: [1], reward: [1], score: [13804]\n"
     ]
    },
    {
     "name": "stdout",
     "output_type": "stream",
     "text": [
      "Episode :   43 | Cumulative Reward :    1 | Epsilon : 0.992\n"
     ]
    },
    {
     "name": "stderr",
     "output_type": "stream",
     "text": [
      "I0923 21:56:28.935439 4616515008 sc2_env.py:507] Starting episode 44: [terran, random] on Simple64\n",
      "I0923 21:59:47.336625 4616515008 sc2_env.py:725] Episode 44 finished after 22472 game steps. Outcome: [1], reward: [1], score: [15238]\n"
     ]
    },
    {
     "name": "stdout",
     "output_type": "stream",
     "text": [
      "Episode :   44 | Cumulative Reward :    1 | Epsilon : 0.991\n"
     ]
    },
    {
     "name": "stderr",
     "output_type": "stream",
     "text": [
      "I0923 21:59:53.002312 4616515008 sc2_env.py:507] Starting episode 45: [terran, random] on Simple64\n",
      "I0923 22:01:41.809430 4616515008 sc2_env.py:725] Episode 45 finished after 11656 game steps. Outcome: [1], reward: [1], score: [10317]\n"
     ]
    },
    {
     "name": "stdout",
     "output_type": "stream",
     "text": [
      "Episode :   45 | Cumulative Reward :    1 | Epsilon : 0.991\n"
     ]
    },
    {
     "name": "stderr",
     "output_type": "stream",
     "text": [
      "I0923 22:01:47.674566 4616515008 sc2_env.py:507] Starting episode 46: [terran, random] on Simple64\n",
      "I0923 22:04:01.362488 4616515008 sc2_env.py:725] Episode 46 finished after 14768 game steps. Outcome: [1], reward: [1], score: [12368]\n"
     ]
    },
    {
     "name": "stdout",
     "output_type": "stream",
     "text": [
      "Episode :   46 | Cumulative Reward :    1 | Epsilon : 0.991\n"
     ]
    },
    {
     "name": "stderr",
     "output_type": "stream",
     "text": [
      "I0923 22:04:06.480489 4616515008 sc2_env.py:507] Starting episode 47: [terran, random] on Simple64\n",
      "I0923 22:06:14.408694 4616515008 sc2_env.py:725] Episode 47 finished after 14624 game steps. Outcome: [1], reward: [1], score: [10899]\n"
     ]
    },
    {
     "name": "stdout",
     "output_type": "stream",
     "text": [
      "Episode :   47 | Cumulative Reward :    1 | Epsilon : 0.991\n"
     ]
    },
    {
     "name": "stderr",
     "output_type": "stream",
     "text": [
      "I0923 22:06:19.884126 4616515008 sc2_env.py:507] Starting episode 48: [terran, random] on Simple64\n",
      "I0923 22:08:33.209811 4616515008 sc2_env.py:725] Episode 48 finished after 14424 game steps. Outcome: [1], reward: [1], score: [13523]\n"
     ]
    },
    {
     "name": "stdout",
     "output_type": "stream",
     "text": [
      "Episode :   48 | Cumulative Reward :    1 | Epsilon : 0.991\n"
     ]
    },
    {
     "name": "stderr",
     "output_type": "stream",
     "text": [
      "I0923 22:08:38.754848 4616515008 sc2_env.py:507] Starting episode 49: [terran, random] on Simple64\n",
      "I0923 22:12:00.350693 4616515008 sc2_env.py:725] Episode 49 finished after 21248 game steps. Outcome: [1], reward: [1], score: [19632]\n"
     ]
    },
    {
     "name": "stdout",
     "output_type": "stream",
     "text": [
      "Episode :   49 | Cumulative Reward :    1 | Epsilon : 0.990\n"
     ]
    },
    {
     "name": "stderr",
     "output_type": "stream",
     "text": [
      "I0923 22:12:06.119674 4616515008 sc2_env.py:507] Starting episode 50: [terran, random] on Simple64\n",
      "I0923 22:14:36.904810 4616515008 sc2_env.py:725] Episode 50 finished after 15704 game steps. Outcome: [1], reward: [1], score: [14267]\n"
     ]
    },
    {
     "name": "stdout",
     "output_type": "stream",
     "text": [
      "Episode :   50 | Cumulative Reward :    1 | Epsilon : 0.990\n"
     ]
    },
    {
     "name": "stderr",
     "output_type": "stream",
     "text": [
      "I0923 22:14:42.656789 4616515008 sc2_env.py:507] Starting episode 51: [terran, random] on Simple64\n",
      "I0923 22:17:16.434321 4616515008 sc2_env.py:725] Episode 51 finished after 16744 game steps. Outcome: [1], reward: [1], score: [15650]\n"
     ]
    },
    {
     "name": "stdout",
     "output_type": "stream",
     "text": [
      "Episode :   51 | Cumulative Reward :    1 | Epsilon : 0.990\n"
     ]
    },
    {
     "name": "stderr",
     "output_type": "stream",
     "text": [
      "I0923 22:17:21.794837 4616515008 sc2_env.py:507] Starting episode 52: [terran, random] on Simple64\n",
      "I0923 22:20:02.526320 4616515008 sc2_env.py:725] Episode 52 finished after 16776 game steps. Outcome: [1], reward: [1], score: [15018]\n"
     ]
    },
    {
     "name": "stdout",
     "output_type": "stream",
     "text": [
      "Episode :   52 | Cumulative Reward :    1 | Epsilon : 0.990\n"
     ]
    },
    {
     "name": "stderr",
     "output_type": "stream",
     "text": [
      "I0923 22:20:07.931749 4616515008 sc2_env.py:507] Starting episode 53: [terran, random] on Simple64\n",
      "I0923 22:22:00.464934 4616515008 sc2_env.py:725] Episode 53 finished after 12520 game steps. Outcome: [1], reward: [1], score: [9881]\n"
     ]
    },
    {
     "name": "stdout",
     "output_type": "stream",
     "text": [
      "Episode :   53 | Cumulative Reward :    1 | Epsilon : 0.990\n"
     ]
    },
    {
     "name": "stderr",
     "output_type": "stream",
     "text": [
      "I0923 22:22:05.935612 4616515008 sc2_env.py:507] Starting episode 54: [terran, random] on Simple64\n",
      "I0923 22:25:28.537247 4616515008 sc2_env.py:725] Episode 54 finished after 19968 game steps. Outcome: [1], reward: [1], score: [19070]\n"
     ]
    },
    {
     "name": "stdout",
     "output_type": "stream",
     "text": [
      "Episode :   54 | Cumulative Reward :    1 | Epsilon : 0.989\n"
     ]
    },
    {
     "name": "stderr",
     "output_type": "stream",
     "text": [
      "I0923 22:25:33.821242 4616515008 sc2_env.py:507] Starting episode 55: [terran, random] on Simple64\n",
      "I0923 22:27:31.149552 4616515008 sc2_env.py:725] Episode 55 finished after 12729 game steps. Outcome: [-1], reward: [-1], score: [11752]\n"
     ]
    },
    {
     "name": "stdout",
     "output_type": "stream",
     "text": [
      "Episode :   55 | Cumulative Reward :   -1 | Epsilon : 0.989\n"
     ]
    },
    {
     "name": "stderr",
     "output_type": "stream",
     "text": [
      "I0923 22:27:32.668912 4616515008 sc2_env.py:752] Environment Close\n"
     ]
    },
    {
     "name": "stdout",
     "output_type": "stream",
     "text": [
      "Took 17801.158 seconds for 115995 steps: 6.516 fps\n"
     ]
    },
    {
     "name": "stderr",
     "output_type": "stream",
     "text": [
      "I0923 22:27:32.979955 4616515008 sc_process.py:232] Shutdown gracefully.\n",
      "I0923 22:27:32.981044 4616515008 sc_process.py:210] Shutdown with return code: -15\n"
     ]
    },
    {
     "ename": "ConnectionError",
     "evalue": "Error during create_game: Connection already closed. SC2 probably crashed. Check the error log.",
     "output_type": "error",
     "traceback": [
      "\u001b[0;31m---------------------------------------------------------------------------\u001b[0m",
      "\u001b[0;31mWebSocketConnectionClosedException\u001b[0m        Traceback (most recent call last)",
      "\u001b[0;32m~/anaconda3/envs/starcraft2/lib/python3.6/site-packages/pysc2/lib/protocol.py\u001b[0m in \u001b[0;36mcatch_websocket_connection_errors\u001b[0;34m()\u001b[0m\n\u001b[1;32m     65\u001b[0m   \u001b[0;32mtry\u001b[0m\u001b[0;34m:\u001b[0m\u001b[0;34m\u001b[0m\u001b[0;34m\u001b[0m\u001b[0m\n\u001b[0;32m---> 66\u001b[0;31m     \u001b[0;32myield\u001b[0m\u001b[0;34m\u001b[0m\u001b[0;34m\u001b[0m\u001b[0m\n\u001b[0m\u001b[1;32m     67\u001b[0m   \u001b[0;32mexcept\u001b[0m \u001b[0mwebsocket\u001b[0m\u001b[0;34m.\u001b[0m\u001b[0mWebSocketConnectionClosedException\u001b[0m\u001b[0;34m:\u001b[0m\u001b[0;34m\u001b[0m\u001b[0;34m\u001b[0m\u001b[0m\n",
      "\u001b[0;32m~/anaconda3/envs/starcraft2/lib/python3.6/site-packages/pysc2/lib/protocol.py\u001b[0m in \u001b[0;36m_read\u001b[0;34m(self)\u001b[0m\n\u001b[1;32m    182\u001b[0m       \u001b[0;32mwith\u001b[0m \u001b[0mcatch_websocket_connection_errors\u001b[0m\u001b[0;34m(\u001b[0m\u001b[0;34m)\u001b[0m\u001b[0;34m:\u001b[0m\u001b[0;34m\u001b[0m\u001b[0;34m\u001b[0m\u001b[0m\n\u001b[0;32m--> 183\u001b[0;31m         \u001b[0mresponse_str\u001b[0m \u001b[0;34m=\u001b[0m \u001b[0mself\u001b[0m\u001b[0;34m.\u001b[0m\u001b[0m_sock\u001b[0m\u001b[0;34m.\u001b[0m\u001b[0mrecv\u001b[0m\u001b[0;34m(\u001b[0m\u001b[0;34m)\u001b[0m\u001b[0;34m\u001b[0m\u001b[0;34m\u001b[0m\u001b[0m\n\u001b[0m\u001b[1;32m    184\u001b[0m     \u001b[0;32mif\u001b[0m \u001b[0;32mnot\u001b[0m \u001b[0mresponse_str\u001b[0m\u001b[0;34m:\u001b[0m\u001b[0;34m\u001b[0m\u001b[0;34m\u001b[0m\u001b[0m\n",
      "\u001b[0;32m~/anaconda3/envs/starcraft2/lib/python3.6/site-packages/websocket/_core.py\u001b[0m in \u001b[0;36mrecv\u001b[0;34m(self)\u001b[0m\n\u001b[1;32m    313\u001b[0m         \u001b[0;32mwith\u001b[0m \u001b[0mself\u001b[0m\u001b[0;34m.\u001b[0m\u001b[0mreadlock\u001b[0m\u001b[0;34m:\u001b[0m\u001b[0;34m\u001b[0m\u001b[0;34m\u001b[0m\u001b[0m\n\u001b[0;32m--> 314\u001b[0;31m             \u001b[0mopcode\u001b[0m\u001b[0;34m,\u001b[0m \u001b[0mdata\u001b[0m \u001b[0;34m=\u001b[0m \u001b[0mself\u001b[0m\u001b[0;34m.\u001b[0m\u001b[0mrecv_data\u001b[0m\u001b[0;34m(\u001b[0m\u001b[0;34m)\u001b[0m\u001b[0;34m\u001b[0m\u001b[0;34m\u001b[0m\u001b[0m\n\u001b[0m\u001b[1;32m    315\u001b[0m         \u001b[0;32mif\u001b[0m \u001b[0msix\u001b[0m\u001b[0;34m.\u001b[0m\u001b[0mPY3\u001b[0m \u001b[0;32mand\u001b[0m \u001b[0mopcode\u001b[0m \u001b[0;34m==\u001b[0m \u001b[0mABNF\u001b[0m\u001b[0;34m.\u001b[0m\u001b[0mOPCODE_TEXT\u001b[0m\u001b[0;34m:\u001b[0m\u001b[0;34m\u001b[0m\u001b[0;34m\u001b[0m\u001b[0m\n",
      "\u001b[0;32m~/anaconda3/envs/starcraft2/lib/python3.6/site-packages/websocket/_core.py\u001b[0m in \u001b[0;36mrecv_data\u001b[0;34m(self, control_frame)\u001b[0m\n\u001b[1;32m    330\u001b[0m         \"\"\"\n\u001b[0;32m--> 331\u001b[0;31m         \u001b[0mopcode\u001b[0m\u001b[0;34m,\u001b[0m \u001b[0mframe\u001b[0m \u001b[0;34m=\u001b[0m \u001b[0mself\u001b[0m\u001b[0;34m.\u001b[0m\u001b[0mrecv_data_frame\u001b[0m\u001b[0;34m(\u001b[0m\u001b[0mcontrol_frame\u001b[0m\u001b[0;34m)\u001b[0m\u001b[0;34m\u001b[0m\u001b[0;34m\u001b[0m\u001b[0m\n\u001b[0m\u001b[1;32m    332\u001b[0m         \u001b[0;32mreturn\u001b[0m \u001b[0mopcode\u001b[0m\u001b[0;34m,\u001b[0m \u001b[0mframe\u001b[0m\u001b[0;34m.\u001b[0m\u001b[0mdata\u001b[0m\u001b[0;34m\u001b[0m\u001b[0;34m\u001b[0m\u001b[0m\n",
      "\u001b[0;32m~/anaconda3/envs/starcraft2/lib/python3.6/site-packages/websocket/_core.py\u001b[0m in \u001b[0;36mrecv_data_frame\u001b[0;34m(self, control_frame)\u001b[0m\n\u001b[1;32m    343\u001b[0m         \u001b[0;32mwhile\u001b[0m \u001b[0;32mTrue\u001b[0m\u001b[0;34m:\u001b[0m\u001b[0;34m\u001b[0m\u001b[0;34m\u001b[0m\u001b[0m\n\u001b[0;32m--> 344\u001b[0;31m             \u001b[0mframe\u001b[0m \u001b[0;34m=\u001b[0m \u001b[0mself\u001b[0m\u001b[0;34m.\u001b[0m\u001b[0mrecv_frame\u001b[0m\u001b[0;34m(\u001b[0m\u001b[0;34m)\u001b[0m\u001b[0;34m\u001b[0m\u001b[0;34m\u001b[0m\u001b[0m\n\u001b[0m\u001b[1;32m    345\u001b[0m             \u001b[0;32mif\u001b[0m \u001b[0;32mnot\u001b[0m \u001b[0mframe\u001b[0m\u001b[0;34m:\u001b[0m\u001b[0;34m\u001b[0m\u001b[0;34m\u001b[0m\u001b[0m\n",
      "\u001b[0;32m~/anaconda3/envs/starcraft2/lib/python3.6/site-packages/websocket/_core.py\u001b[0m in \u001b[0;36mrecv_frame\u001b[0;34m(self)\u001b[0m\n\u001b[1;32m    377\u001b[0m         \"\"\"\n\u001b[0;32m--> 378\u001b[0;31m         \u001b[0;32mreturn\u001b[0m \u001b[0mself\u001b[0m\u001b[0;34m.\u001b[0m\u001b[0mframe_buffer\u001b[0m\u001b[0;34m.\u001b[0m\u001b[0mrecv_frame\u001b[0m\u001b[0;34m(\u001b[0m\u001b[0;34m)\u001b[0m\u001b[0;34m\u001b[0m\u001b[0;34m\u001b[0m\u001b[0m\n\u001b[0m\u001b[1;32m    379\u001b[0m \u001b[0;34m\u001b[0m\u001b[0m\n",
      "\u001b[0;32m~/anaconda3/envs/starcraft2/lib/python3.6/site-packages/websocket/_abnf.py\u001b[0m in \u001b[0;36mrecv_frame\u001b[0;34m(self)\u001b[0m\n\u001b[1;32m    360\u001b[0m             \u001b[0;32mif\u001b[0m \u001b[0mself\u001b[0m\u001b[0;34m.\u001b[0m\u001b[0mhas_received_header\u001b[0m\u001b[0;34m(\u001b[0m\u001b[0;34m)\u001b[0m\u001b[0;34m:\u001b[0m\u001b[0;34m\u001b[0m\u001b[0;34m\u001b[0m\u001b[0m\n\u001b[0;32m--> 361\u001b[0;31m                 \u001b[0mself\u001b[0m\u001b[0;34m.\u001b[0m\u001b[0mrecv_header\u001b[0m\u001b[0;34m(\u001b[0m\u001b[0;34m)\u001b[0m\u001b[0;34m\u001b[0m\u001b[0;34m\u001b[0m\u001b[0m\n\u001b[0m\u001b[1;32m    362\u001b[0m             \u001b[0;34m(\u001b[0m\u001b[0mfin\u001b[0m\u001b[0;34m,\u001b[0m \u001b[0mrsv1\u001b[0m\u001b[0;34m,\u001b[0m \u001b[0mrsv2\u001b[0m\u001b[0;34m,\u001b[0m \u001b[0mrsv3\u001b[0m\u001b[0;34m,\u001b[0m \u001b[0mopcode\u001b[0m\u001b[0;34m,\u001b[0m \u001b[0mhas_mask\u001b[0m\u001b[0;34m,\u001b[0m \u001b[0m_\u001b[0m\u001b[0;34m)\u001b[0m \u001b[0;34m=\u001b[0m \u001b[0mself\u001b[0m\u001b[0;34m.\u001b[0m\u001b[0mheader\u001b[0m\u001b[0;34m\u001b[0m\u001b[0;34m\u001b[0m\u001b[0m\n",
      "\u001b[0;32m~/anaconda3/envs/starcraft2/lib/python3.6/site-packages/websocket/_abnf.py\u001b[0m in \u001b[0;36mrecv_header\u001b[0;34m(self)\u001b[0m\n\u001b[1;32m    308\u001b[0m     \u001b[0;32mdef\u001b[0m \u001b[0mrecv_header\u001b[0m\u001b[0;34m(\u001b[0m\u001b[0mself\u001b[0m\u001b[0;34m)\u001b[0m\u001b[0;34m:\u001b[0m\u001b[0;34m\u001b[0m\u001b[0;34m\u001b[0m\u001b[0m\n\u001b[0;32m--> 309\u001b[0;31m         \u001b[0mheader\u001b[0m \u001b[0;34m=\u001b[0m \u001b[0mself\u001b[0m\u001b[0;34m.\u001b[0m\u001b[0mrecv_strict\u001b[0m\u001b[0;34m(\u001b[0m\u001b[0;36m2\u001b[0m\u001b[0;34m)\u001b[0m\u001b[0;34m\u001b[0m\u001b[0;34m\u001b[0m\u001b[0m\n\u001b[0m\u001b[1;32m    310\u001b[0m         \u001b[0mb1\u001b[0m \u001b[0;34m=\u001b[0m \u001b[0mheader\u001b[0m\u001b[0;34m[\u001b[0m\u001b[0;36m0\u001b[0m\u001b[0;34m]\u001b[0m\u001b[0;34m\u001b[0m\u001b[0;34m\u001b[0m\u001b[0m\n",
      "\u001b[0;32m~/anaconda3/envs/starcraft2/lib/python3.6/site-packages/websocket/_abnf.py\u001b[0m in \u001b[0;36mrecv_strict\u001b[0;34m(self, bufsize)\u001b[0m\n\u001b[1;32m    395\u001b[0m             \u001b[0;31m# fragmentation.\u001b[0m\u001b[0;34m\u001b[0m\u001b[0;34m\u001b[0m\u001b[0;34m\u001b[0m\u001b[0m\n\u001b[0;32m--> 396\u001b[0;31m             \u001b[0mbytes_\u001b[0m \u001b[0;34m=\u001b[0m \u001b[0mself\u001b[0m\u001b[0;34m.\u001b[0m\u001b[0mrecv\u001b[0m\u001b[0;34m(\u001b[0m\u001b[0mmin\u001b[0m\u001b[0;34m(\u001b[0m\u001b[0;36m16384\u001b[0m\u001b[0;34m,\u001b[0m \u001b[0mshortage\u001b[0m\u001b[0;34m)\u001b[0m\u001b[0;34m)\u001b[0m\u001b[0;34m\u001b[0m\u001b[0;34m\u001b[0m\u001b[0m\n\u001b[0m\u001b[1;32m    397\u001b[0m             \u001b[0mself\u001b[0m\u001b[0;34m.\u001b[0m\u001b[0mrecv_buffer\u001b[0m\u001b[0;34m.\u001b[0m\u001b[0mappend\u001b[0m\u001b[0;34m(\u001b[0m\u001b[0mbytes_\u001b[0m\u001b[0;34m)\u001b[0m\u001b[0;34m\u001b[0m\u001b[0;34m\u001b[0m\u001b[0m\n",
      "\u001b[0;32m~/anaconda3/envs/starcraft2/lib/python3.6/site-packages/websocket/_core.py\u001b[0m in \u001b[0;36m_recv\u001b[0;34m(self, bufsize)\u001b[0m\n\u001b[1;32m    452\u001b[0m         \u001b[0;32mtry\u001b[0m\u001b[0;34m:\u001b[0m\u001b[0;34m\u001b[0m\u001b[0;34m\u001b[0m\u001b[0m\n\u001b[0;32m--> 453\u001b[0;31m             \u001b[0;32mreturn\u001b[0m \u001b[0mrecv\u001b[0m\u001b[0;34m(\u001b[0m\u001b[0mself\u001b[0m\u001b[0;34m.\u001b[0m\u001b[0msock\u001b[0m\u001b[0;34m,\u001b[0m \u001b[0mbufsize\u001b[0m\u001b[0;34m)\u001b[0m\u001b[0;34m\u001b[0m\u001b[0;34m\u001b[0m\u001b[0m\n\u001b[0m\u001b[1;32m    454\u001b[0m         \u001b[0;32mexcept\u001b[0m \u001b[0mWebSocketConnectionClosedException\u001b[0m\u001b[0;34m:\u001b[0m\u001b[0;34m\u001b[0m\u001b[0;34m\u001b[0m\u001b[0m\n",
      "\u001b[0;32m~/anaconda3/envs/starcraft2/lib/python3.6/site-packages/websocket/_socket.py\u001b[0m in \u001b[0;36mrecv\u001b[0;34m(sock, bufsize)\u001b[0m\n\u001b[1;32m    114\u001b[0m         raise WebSocketConnectionClosedException(\n\u001b[0;32m--> 115\u001b[0;31m             \"Connection is already closed.\")\n\u001b[0m\u001b[1;32m    116\u001b[0m \u001b[0;34m\u001b[0m\u001b[0m\n",
      "\u001b[0;31mWebSocketConnectionClosedException\u001b[0m: Connection is already closed.",
      "\nDuring handling of the above exception, another exception occurred:\n",
      "\u001b[0;31mConnectionError\u001b[0m                           Traceback (most recent call last)",
      "\u001b[0;32m~/anaconda3/envs/starcraft2/lib/python3.6/site-packages/pysc2/lib/protocol.py\u001b[0m in \u001b[0;36msend\u001b[0;34m(self, **kwargs)\u001b[0m\n\u001b[1;32m    150\u001b[0m     \u001b[0;32mtry\u001b[0m\u001b[0;34m:\u001b[0m\u001b[0;34m\u001b[0m\u001b[0;34m\u001b[0m\u001b[0m\n\u001b[0;32m--> 151\u001b[0;31m       \u001b[0mres\u001b[0m \u001b[0;34m=\u001b[0m \u001b[0mself\u001b[0m\u001b[0;34m.\u001b[0m\u001b[0msend_req\u001b[0m\u001b[0;34m(\u001b[0m\u001b[0mreq\u001b[0m\u001b[0;34m)\u001b[0m\u001b[0;34m\u001b[0m\u001b[0;34m\u001b[0m\u001b[0m\n\u001b[0m\u001b[1;32m    152\u001b[0m     \u001b[0;32mexcept\u001b[0m \u001b[0mConnectionError\u001b[0m \u001b[0;32mas\u001b[0m \u001b[0me\u001b[0m\u001b[0;34m:\u001b[0m\u001b[0;34m\u001b[0m\u001b[0;34m\u001b[0m\u001b[0m\n",
      "\u001b[0;32m~/anaconda3/envs/starcraft2/lib/python3.6/site-packages/pysc2/lib/protocol.py\u001b[0m in \u001b[0;36msend_req\u001b[0;34m(self, request)\u001b[0m\n\u001b[1;32m    130\u001b[0m     \u001b[0mself\u001b[0m\u001b[0;34m.\u001b[0m\u001b[0mwrite\u001b[0m\u001b[0;34m(\u001b[0m\u001b[0mrequest\u001b[0m\u001b[0;34m)\u001b[0m\u001b[0;34m\u001b[0m\u001b[0;34m\u001b[0m\u001b[0m\n\u001b[0;32m--> 131\u001b[0;31m     \u001b[0;32mreturn\u001b[0m \u001b[0mself\u001b[0m\u001b[0;34m.\u001b[0m\u001b[0mread\u001b[0m\u001b[0;34m(\u001b[0m\u001b[0;34m)\u001b[0m\u001b[0;34m\u001b[0m\u001b[0;34m\u001b[0m\u001b[0m\n\u001b[0m\u001b[1;32m    132\u001b[0m \u001b[0;34m\u001b[0m\u001b[0m\n",
      "\u001b[0;32m~/anaconda3/envs/starcraft2/lib/python3.6/site-packages/pysc2/lib/stopwatch.py\u001b[0m in \u001b[0;36m_stopwatch\u001b[0;34m(*args, **kwargs)\u001b[0m\n\u001b[1;32m    211\u001b[0m         \u001b[0;32mwith\u001b[0m \u001b[0mself\u001b[0m\u001b[0;34m(\u001b[0m\u001b[0mname\u001b[0m\u001b[0;34m)\u001b[0m\u001b[0;34m:\u001b[0m\u001b[0;34m\u001b[0m\u001b[0;34m\u001b[0m\u001b[0m\n\u001b[0;32m--> 212\u001b[0;31m           \u001b[0;32mreturn\u001b[0m \u001b[0mfunc\u001b[0m\u001b[0;34m(\u001b[0m\u001b[0;34m*\u001b[0m\u001b[0margs\u001b[0m\u001b[0;34m,\u001b[0m \u001b[0;34m**\u001b[0m\u001b[0mkwargs\u001b[0m\u001b[0;34m)\u001b[0m\u001b[0;34m\u001b[0m\u001b[0;34m\u001b[0m\u001b[0m\n\u001b[0m\u001b[1;32m    213\u001b[0m       \u001b[0;32mreturn\u001b[0m \u001b[0m_stopwatch\u001b[0m\u001b[0;34m\u001b[0m\u001b[0;34m\u001b[0m\u001b[0m\n",
      "\u001b[0;32m~/anaconda3/envs/starcraft2/lib/python3.6/site-packages/pysc2/lib/protocol.py\u001b[0m in \u001b[0;36mread\u001b[0;34m(self)\u001b[0m\n\u001b[1;32m    101\u001b[0m       \u001b[0mstart\u001b[0m \u001b[0;34m=\u001b[0m \u001b[0mtime\u001b[0m\u001b[0;34m.\u001b[0m\u001b[0mtime\u001b[0m\u001b[0;34m(\u001b[0m\u001b[0;34m)\u001b[0m\u001b[0;34m\u001b[0m\u001b[0;34m\u001b[0m\u001b[0m\n\u001b[0;32m--> 102\u001b[0;31m     \u001b[0mresponse\u001b[0m \u001b[0;34m=\u001b[0m \u001b[0mself\u001b[0m\u001b[0;34m.\u001b[0m\u001b[0m_read\u001b[0m\u001b[0;34m(\u001b[0m\u001b[0;34m)\u001b[0m\u001b[0;34m\u001b[0m\u001b[0;34m\u001b[0m\u001b[0m\n\u001b[0m\u001b[1;32m    103\u001b[0m     \u001b[0;32mif\u001b[0m \u001b[0mFLAGS\u001b[0m\u001b[0;34m.\u001b[0m\u001b[0msc2_verbose_protocol\u001b[0m\u001b[0;34m:\u001b[0m\u001b[0;34m\u001b[0m\u001b[0;34m\u001b[0m\u001b[0m\n",
      "\u001b[0;32m~/anaconda3/envs/starcraft2/lib/python3.6/site-packages/pysc2/lib/protocol.py\u001b[0m in \u001b[0;36m_read\u001b[0;34m(self)\u001b[0m\n\u001b[1;32m    182\u001b[0m       \u001b[0;32mwith\u001b[0m \u001b[0mcatch_websocket_connection_errors\u001b[0m\u001b[0;34m(\u001b[0m\u001b[0;34m)\u001b[0m\u001b[0;34m:\u001b[0m\u001b[0;34m\u001b[0m\u001b[0;34m\u001b[0m\u001b[0m\n\u001b[0;32m--> 183\u001b[0;31m         \u001b[0mresponse_str\u001b[0m \u001b[0;34m=\u001b[0m \u001b[0mself\u001b[0m\u001b[0;34m.\u001b[0m\u001b[0m_sock\u001b[0m\u001b[0;34m.\u001b[0m\u001b[0mrecv\u001b[0m\u001b[0;34m(\u001b[0m\u001b[0;34m)\u001b[0m\u001b[0;34m\u001b[0m\u001b[0;34m\u001b[0m\u001b[0m\n\u001b[0m\u001b[1;32m    184\u001b[0m     \u001b[0;32mif\u001b[0m \u001b[0;32mnot\u001b[0m \u001b[0mresponse_str\u001b[0m\u001b[0;34m:\u001b[0m\u001b[0;34m\u001b[0m\u001b[0;34m\u001b[0m\u001b[0m\n",
      "\u001b[0;32m~/anaconda3/envs/starcraft2/lib/python3.6/contextlib.py\u001b[0m in \u001b[0;36m__exit__\u001b[0;34m(self, type, value, traceback)\u001b[0m\n\u001b[1;32m     98\u001b[0m             \u001b[0;32mtry\u001b[0m\u001b[0;34m:\u001b[0m\u001b[0;34m\u001b[0m\u001b[0;34m\u001b[0m\u001b[0m\n\u001b[0;32m---> 99\u001b[0;31m                 \u001b[0mself\u001b[0m\u001b[0;34m.\u001b[0m\u001b[0mgen\u001b[0m\u001b[0;34m.\u001b[0m\u001b[0mthrow\u001b[0m\u001b[0;34m(\u001b[0m\u001b[0mtype\u001b[0m\u001b[0;34m,\u001b[0m \u001b[0mvalue\u001b[0m\u001b[0;34m,\u001b[0m \u001b[0mtraceback\u001b[0m\u001b[0;34m)\u001b[0m\u001b[0;34m\u001b[0m\u001b[0;34m\u001b[0m\u001b[0m\n\u001b[0m\u001b[1;32m    100\u001b[0m             \u001b[0;32mexcept\u001b[0m \u001b[0mStopIteration\u001b[0m \u001b[0;32mas\u001b[0m \u001b[0mexc\u001b[0m\u001b[0;34m:\u001b[0m\u001b[0;34m\u001b[0m\u001b[0;34m\u001b[0m\u001b[0m\n",
      "\u001b[0;32m~/anaconda3/envs/starcraft2/lib/python3.6/site-packages/pysc2/lib/protocol.py\u001b[0m in \u001b[0;36mcatch_websocket_connection_errors\u001b[0;34m()\u001b[0m\n\u001b[1;32m     67\u001b[0m   \u001b[0;32mexcept\u001b[0m \u001b[0mwebsocket\u001b[0m\u001b[0;34m.\u001b[0m\u001b[0mWebSocketConnectionClosedException\u001b[0m\u001b[0;34m:\u001b[0m\u001b[0;34m\u001b[0m\u001b[0;34m\u001b[0m\u001b[0m\n\u001b[0;32m---> 68\u001b[0;31m     raise ConnectionError(\"Connection already closed. SC2 probably crashed. \"\n\u001b[0m\u001b[1;32m     69\u001b[0m                           \"Check the error log.\")\n",
      "\u001b[0;31mConnectionError\u001b[0m: Connection already closed. SC2 probably crashed. Check the error log.",
      "\nDuring handling of the above exception, another exception occurred:\n",
      "\u001b[0;31mConnectionError\u001b[0m                           Traceback (most recent call last)",
      "\u001b[0;32m<ipython-input-312-60174cc17dd3>\u001b[0m in \u001b[0;36m<module>\u001b[0;34m\u001b[0m\n\u001b[1;32m      1\u001b[0m \u001b[0;32mif\u001b[0m \u001b[0m__name__\u001b[0m \u001b[0;34m==\u001b[0m \u001b[0;34m\"__main__\"\u001b[0m\u001b[0;34m:\u001b[0m\u001b[0;34m\u001b[0m\u001b[0;34m\u001b[0m\u001b[0m\n\u001b[0;32m----> 2\u001b[0;31m   \u001b[0mapp\u001b[0m\u001b[0;34m.\u001b[0m\u001b[0mrun\u001b[0m\u001b[0;34m(\u001b[0m\u001b[0mmain\u001b[0m\u001b[0;34m)\u001b[0m\u001b[0;34m\u001b[0m\u001b[0;34m\u001b[0m\u001b[0m\n\u001b[0m",
      "\u001b[0;32m~/anaconda3/envs/starcraft2/lib/python3.6/site-packages/absl/app.py\u001b[0m in \u001b[0;36mrun\u001b[0;34m(main, argv, flags_parser)\u001b[0m\n\u001b[1;32m    297\u001b[0m       \u001b[0mcallback\u001b[0m\u001b[0;34m(\u001b[0m\u001b[0;34m)\u001b[0m\u001b[0;34m\u001b[0m\u001b[0;34m\u001b[0m\u001b[0m\n\u001b[1;32m    298\u001b[0m     \u001b[0;32mtry\u001b[0m\u001b[0;34m:\u001b[0m\u001b[0;34m\u001b[0m\u001b[0;34m\u001b[0m\u001b[0m\n\u001b[0;32m--> 299\u001b[0;31m       \u001b[0m_run_main\u001b[0m\u001b[0;34m(\u001b[0m\u001b[0mmain\u001b[0m\u001b[0;34m,\u001b[0m \u001b[0margs\u001b[0m\u001b[0;34m)\u001b[0m\u001b[0;34m\u001b[0m\u001b[0;34m\u001b[0m\u001b[0m\n\u001b[0m\u001b[1;32m    300\u001b[0m     \u001b[0;32mexcept\u001b[0m \u001b[0mUsageError\u001b[0m \u001b[0;32mas\u001b[0m \u001b[0merror\u001b[0m\u001b[0;34m:\u001b[0m\u001b[0;34m\u001b[0m\u001b[0;34m\u001b[0m\u001b[0m\n\u001b[1;32m    301\u001b[0m       \u001b[0musage\u001b[0m\u001b[0;34m(\u001b[0m\u001b[0mshorthelp\u001b[0m\u001b[0;34m=\u001b[0m\u001b[0;32mTrue\u001b[0m\u001b[0;34m,\u001b[0m \u001b[0mdetailed_error\u001b[0m\u001b[0;34m=\u001b[0m\u001b[0merror\u001b[0m\u001b[0;34m,\u001b[0m \u001b[0mexitcode\u001b[0m\u001b[0;34m=\u001b[0m\u001b[0merror\u001b[0m\u001b[0;34m.\u001b[0m\u001b[0mexitcode\u001b[0m\u001b[0;34m)\u001b[0m\u001b[0;34m\u001b[0m\u001b[0;34m\u001b[0m\u001b[0m\n",
      "\u001b[0;32m~/anaconda3/envs/starcraft2/lib/python3.6/site-packages/absl/app.py\u001b[0m in \u001b[0;36m_run_main\u001b[0;34m(main, argv)\u001b[0m\n\u001b[1;32m    248\u001b[0m     \u001b[0msys\u001b[0m\u001b[0;34m.\u001b[0m\u001b[0mexit\u001b[0m\u001b[0;34m(\u001b[0m\u001b[0mretval\u001b[0m\u001b[0;34m)\u001b[0m\u001b[0;34m\u001b[0m\u001b[0;34m\u001b[0m\u001b[0m\n\u001b[1;32m    249\u001b[0m   \u001b[0;32melse\u001b[0m\u001b[0;34m:\u001b[0m\u001b[0;34m\u001b[0m\u001b[0;34m\u001b[0m\u001b[0m\n\u001b[0;32m--> 250\u001b[0;31m     \u001b[0msys\u001b[0m\u001b[0;34m.\u001b[0m\u001b[0mexit\u001b[0m\u001b[0;34m(\u001b[0m\u001b[0mmain\u001b[0m\u001b[0;34m(\u001b[0m\u001b[0margv\u001b[0m\u001b[0;34m)\u001b[0m\u001b[0;34m)\u001b[0m\u001b[0;34m\u001b[0m\u001b[0;34m\u001b[0m\u001b[0m\n\u001b[0m\u001b[1;32m    251\u001b[0m \u001b[0;34m\u001b[0m\u001b[0m\n\u001b[1;32m    252\u001b[0m \u001b[0;34m\u001b[0m\u001b[0m\n",
      "\u001b[0;32m<ipython-input-83-416804353d2b>\u001b[0m in \u001b[0;36mmain\u001b[0;34m(unused_argv)\u001b[0m\n\u001b[1;32m    145\u001b[0m     \u001b[0mt\u001b[0m\u001b[0;34m.\u001b[0m\u001b[0mstart\u001b[0m\u001b[0;34m(\u001b[0m\u001b[0;34m)\u001b[0m\u001b[0;34m\u001b[0m\u001b[0;34m\u001b[0m\u001b[0m\n\u001b[1;32m    146\u001b[0m \u001b[0;34m\u001b[0m\u001b[0m\n\u001b[0;32m--> 147\u001b[0;31m   \u001b[0mrun_thread\u001b[0m\u001b[0;34m(\u001b[0m\u001b[0magent_classes\u001b[0m\u001b[0;34m,\u001b[0m \u001b[0mplayers\u001b[0m\u001b[0;34m,\u001b[0m \u001b[0mFLAGS\u001b[0m\u001b[0;34m.\u001b[0m\u001b[0mmap\u001b[0m\u001b[0;34m,\u001b[0m \u001b[0mFLAGS\u001b[0m\u001b[0;34m.\u001b[0m\u001b[0mrender\u001b[0m\u001b[0;34m)\u001b[0m\u001b[0;34m\u001b[0m\u001b[0;34m\u001b[0m\u001b[0m\n\u001b[0m\u001b[1;32m    148\u001b[0m \u001b[0;34m\u001b[0m\u001b[0m\n\u001b[1;32m    149\u001b[0m   \u001b[0;32mfor\u001b[0m \u001b[0mt\u001b[0m \u001b[0;32min\u001b[0m \u001b[0mthreads\u001b[0m\u001b[0;34m:\u001b[0m\u001b[0;34m\u001b[0m\u001b[0;34m\u001b[0m\u001b[0m\n",
      "\u001b[0;32m<ipython-input-83-416804353d2b>\u001b[0m in \u001b[0;36mrun_thread\u001b[0;34m(agent_classes, players, map_name, visualize)\u001b[0m\n\u001b[1;32m    108\u001b[0m     \u001b[0;31m#env = available_actions_printer.AvailableActionsPrinter(env)\u001b[0m\u001b[0;34m\u001b[0m\u001b[0;34m\u001b[0m\u001b[0;34m\u001b[0m\u001b[0m\n\u001b[1;32m    109\u001b[0m     \u001b[0magents\u001b[0m \u001b[0;34m=\u001b[0m \u001b[0;34m[\u001b[0m\u001b[0magent_cls\u001b[0m\u001b[0;34m(\u001b[0m\u001b[0;34m)\u001b[0m \u001b[0;32mfor\u001b[0m \u001b[0magent_cls\u001b[0m \u001b[0;32min\u001b[0m \u001b[0magent_classes\u001b[0m\u001b[0;34m]\u001b[0m\u001b[0;34m\u001b[0m\u001b[0;34m\u001b[0m\u001b[0m\n\u001b[0;32m--> 110\u001b[0;31m     \u001b[0mrun_loop\u001b[0m\u001b[0;34m.\u001b[0m\u001b[0mrun_loop\u001b[0m\u001b[0;34m(\u001b[0m\u001b[0magents\u001b[0m\u001b[0;34m,\u001b[0m \u001b[0menv\u001b[0m\u001b[0;34m,\u001b[0m \u001b[0mFLAGS\u001b[0m\u001b[0;34m.\u001b[0m\u001b[0mmax_agent_steps\u001b[0m\u001b[0;34m,\u001b[0m \u001b[0mFLAGS\u001b[0m\u001b[0;34m.\u001b[0m\u001b[0mmax_episodes\u001b[0m\u001b[0;34m)\u001b[0m\u001b[0;34m\u001b[0m\u001b[0;34m\u001b[0m\u001b[0m\n\u001b[0m\u001b[1;32m    111\u001b[0m     \u001b[0;32mif\u001b[0m \u001b[0mFLAGS\u001b[0m\u001b[0;34m.\u001b[0m\u001b[0msave_replay\u001b[0m\u001b[0;34m:\u001b[0m\u001b[0;34m\u001b[0m\u001b[0;34m\u001b[0m\u001b[0m\n\u001b[1;32m    112\u001b[0m       \u001b[0menv\u001b[0m\u001b[0;34m.\u001b[0m\u001b[0msave_replay\u001b[0m\u001b[0;34m(\u001b[0m\u001b[0magent_classes\u001b[0m\u001b[0;34m[\u001b[0m\u001b[0;36m0\u001b[0m\u001b[0;34m]\u001b[0m\u001b[0;34m.\u001b[0m\u001b[0m__name__\u001b[0m\u001b[0;34m)\u001b[0m\u001b[0;34m\u001b[0m\u001b[0;34m\u001b[0m\u001b[0m\n",
      "\u001b[0;32m~/anaconda3/envs/starcraft2/lib/python3.6/site-packages/pysc2/env/run_loop.py\u001b[0m in \u001b[0;36mrun_loop\u001b[0;34m(agents, env, max_frames, max_episodes)\u001b[0m\n\u001b[1;32m     35\u001b[0m     \u001b[0;32mwhile\u001b[0m \u001b[0;32mnot\u001b[0m \u001b[0mmax_episodes\u001b[0m \u001b[0;32mor\u001b[0m \u001b[0mtotal_episodes\u001b[0m \u001b[0;34m<\u001b[0m \u001b[0mmax_episodes\u001b[0m\u001b[0;34m:\u001b[0m\u001b[0;34m\u001b[0m\u001b[0;34m\u001b[0m\u001b[0m\n\u001b[1;32m     36\u001b[0m       \u001b[0mtotal_episodes\u001b[0m \u001b[0;34m+=\u001b[0m \u001b[0;36m1\u001b[0m\u001b[0;34m\u001b[0m\u001b[0;34m\u001b[0m\u001b[0m\n\u001b[0;32m---> 37\u001b[0;31m       \u001b[0mtimesteps\u001b[0m \u001b[0;34m=\u001b[0m \u001b[0menv\u001b[0m\u001b[0;34m.\u001b[0m\u001b[0mreset\u001b[0m\u001b[0;34m(\u001b[0m\u001b[0;34m)\u001b[0m\u001b[0;34m\u001b[0m\u001b[0;34m\u001b[0m\u001b[0m\n\u001b[0m\u001b[1;32m     38\u001b[0m       \u001b[0;32mfor\u001b[0m \u001b[0ma\u001b[0m \u001b[0;32min\u001b[0m \u001b[0magents\u001b[0m\u001b[0;34m:\u001b[0m\u001b[0;34m\u001b[0m\u001b[0;34m\u001b[0m\u001b[0m\n\u001b[1;32m     39\u001b[0m         \u001b[0ma\u001b[0m\u001b[0;34m.\u001b[0m\u001b[0mreset\u001b[0m\u001b[0;34m(\u001b[0m\u001b[0;34m)\u001b[0m\u001b[0;34m\u001b[0m\u001b[0;34m\u001b[0m\u001b[0m\n",
      "\u001b[0;32m~/anaconda3/envs/starcraft2/lib/python3.6/site-packages/pysc2/lib/stopwatch.py\u001b[0m in \u001b[0;36m_stopwatch\u001b[0;34m(*args, **kwargs)\u001b[0m\n\u001b[1;32m    210\u001b[0m       \u001b[0;32mdef\u001b[0m \u001b[0m_stopwatch\u001b[0m\u001b[0;34m(\u001b[0m\u001b[0;34m*\u001b[0m\u001b[0margs\u001b[0m\u001b[0;34m,\u001b[0m \u001b[0;34m**\u001b[0m\u001b[0mkwargs\u001b[0m\u001b[0;34m)\u001b[0m\u001b[0;34m:\u001b[0m\u001b[0;34m\u001b[0m\u001b[0;34m\u001b[0m\u001b[0m\n\u001b[1;32m    211\u001b[0m         \u001b[0;32mwith\u001b[0m \u001b[0mself\u001b[0m\u001b[0;34m(\u001b[0m\u001b[0mname\u001b[0m\u001b[0;34m)\u001b[0m\u001b[0;34m:\u001b[0m\u001b[0;34m\u001b[0m\u001b[0;34m\u001b[0m\u001b[0m\n\u001b[0;32m--> 212\u001b[0;31m           \u001b[0;32mreturn\u001b[0m \u001b[0mfunc\u001b[0m\u001b[0;34m(\u001b[0m\u001b[0;34m*\u001b[0m\u001b[0margs\u001b[0m\u001b[0;34m,\u001b[0m \u001b[0;34m**\u001b[0m\u001b[0mkwargs\u001b[0m\u001b[0;34m)\u001b[0m\u001b[0;34m\u001b[0m\u001b[0;34m\u001b[0m\u001b[0m\n\u001b[0m\u001b[1;32m    213\u001b[0m       \u001b[0;32mreturn\u001b[0m \u001b[0m_stopwatch\u001b[0m\u001b[0;34m\u001b[0m\u001b[0;34m\u001b[0m\u001b[0m\n\u001b[1;32m    214\u001b[0m     \u001b[0;32mif\u001b[0m \u001b[0mcallable\u001b[0m\u001b[0;34m(\u001b[0m\u001b[0mname_or_func\u001b[0m\u001b[0;34m)\u001b[0m\u001b[0;34m:\u001b[0m\u001b[0;34m\u001b[0m\u001b[0;34m\u001b[0m\u001b[0m\n",
      "\u001b[0;32m~/anaconda3/envs/starcraft2/lib/python3.6/site-packages/pysc2/env/sc2_env.py\u001b[0m in \u001b[0;36mreset\u001b[0;34m(self)\u001b[0m\n\u001b[1;32m    499\u001b[0m     \u001b[0;32mif\u001b[0m \u001b[0mself\u001b[0m\u001b[0;34m.\u001b[0m\u001b[0m_episode_count\u001b[0m\u001b[0;34m:\u001b[0m\u001b[0;34m\u001b[0m\u001b[0;34m\u001b[0m\u001b[0m\n\u001b[1;32m    500\u001b[0m       \u001b[0;31m# No need to restart for the first episode.\u001b[0m\u001b[0;34m\u001b[0m\u001b[0;34m\u001b[0m\u001b[0;34m\u001b[0m\u001b[0m\n\u001b[0;32m--> 501\u001b[0;31m       \u001b[0mself\u001b[0m\u001b[0;34m.\u001b[0m\u001b[0m_restart\u001b[0m\u001b[0;34m(\u001b[0m\u001b[0;34m)\u001b[0m\u001b[0;34m\u001b[0m\u001b[0;34m\u001b[0m\u001b[0m\n\u001b[0m\u001b[1;32m    502\u001b[0m \u001b[0;34m\u001b[0m\u001b[0m\n\u001b[1;32m    503\u001b[0m     \u001b[0mself\u001b[0m\u001b[0;34m.\u001b[0m\u001b[0m_episode_count\u001b[0m \u001b[0;34m+=\u001b[0m \u001b[0;36m1\u001b[0m\u001b[0;34m\u001b[0m\u001b[0;34m\u001b[0m\u001b[0m\n",
      "\u001b[0;32m~/anaconda3/envs/starcraft2/lib/python3.6/site-packages/pysc2/env/sc2_env.py\u001b[0m in \u001b[0;36m_restart\u001b[0;34m(self)\u001b[0m\n\u001b[1;32m    491\u001b[0m       \u001b[0;32mif\u001b[0m \u001b[0mlen\u001b[0m\u001b[0;34m(\u001b[0m\u001b[0mself\u001b[0m\u001b[0;34m.\u001b[0m\u001b[0m_controllers\u001b[0m\u001b[0;34m)\u001b[0m \u001b[0;34m>\u001b[0m \u001b[0;36m1\u001b[0m\u001b[0;34m:\u001b[0m\u001b[0;34m\u001b[0m\u001b[0;34m\u001b[0m\u001b[0m\n\u001b[1;32m    492\u001b[0m         \u001b[0mself\u001b[0m\u001b[0;34m.\u001b[0m\u001b[0m_parallel\u001b[0m\u001b[0;34m.\u001b[0m\u001b[0mrun\u001b[0m\u001b[0;34m(\u001b[0m\u001b[0mc\u001b[0m\u001b[0;34m.\u001b[0m\u001b[0mleave\u001b[0m \u001b[0;32mfor\u001b[0m \u001b[0mc\u001b[0m \u001b[0;32min\u001b[0m \u001b[0mself\u001b[0m\u001b[0;34m.\u001b[0m\u001b[0m_controllers\u001b[0m\u001b[0;34m)\u001b[0m\u001b[0;34m\u001b[0m\u001b[0;34m\u001b[0m\u001b[0m\n\u001b[0;32m--> 493\u001b[0;31m       \u001b[0mself\u001b[0m\u001b[0;34m.\u001b[0m\u001b[0m_create_join\u001b[0m\u001b[0;34m(\u001b[0m\u001b[0;34m)\u001b[0m\u001b[0;34m\u001b[0m\u001b[0;34m\u001b[0m\u001b[0m\n\u001b[0m\u001b[1;32m    494\u001b[0m \u001b[0;34m\u001b[0m\u001b[0m\n\u001b[1;32m    495\u001b[0m   \u001b[0;34m@\u001b[0m\u001b[0msw\u001b[0m\u001b[0;34m.\u001b[0m\u001b[0mdecorate\u001b[0m\u001b[0;34m\u001b[0m\u001b[0;34m\u001b[0m\u001b[0m\n",
      "\u001b[0;32m~/anaconda3/envs/starcraft2/lib/python3.6/site-packages/pysc2/env/sc2_env.py\u001b[0m in \u001b[0;36m_create_join\u001b[0;34m(self)\u001b[0m\n\u001b[1;32m    410\u001b[0m             \u001b[0mtype\u001b[0m\u001b[0;34m=\u001b[0m\u001b[0msc_pb\u001b[0m\u001b[0;34m.\u001b[0m\u001b[0mComputer\u001b[0m\u001b[0;34m,\u001b[0m \u001b[0mrace\u001b[0m\u001b[0;34m=\u001b[0m\u001b[0mrandom\u001b[0m\u001b[0;34m.\u001b[0m\u001b[0mchoice\u001b[0m\u001b[0;34m(\u001b[0m\u001b[0mp\u001b[0m\u001b[0;34m.\u001b[0m\u001b[0mrace\u001b[0m\u001b[0;34m)\u001b[0m\u001b[0;34m,\u001b[0m\u001b[0;34m\u001b[0m\u001b[0;34m\u001b[0m\u001b[0m\n\u001b[1;32m    411\u001b[0m             difficulty=p.difficulty, ai_build=random.choice(p.build))\n\u001b[0;32m--> 412\u001b[0;31m     \u001b[0mself\u001b[0m\u001b[0;34m.\u001b[0m\u001b[0m_controllers\u001b[0m\u001b[0;34m[\u001b[0m\u001b[0;36m0\u001b[0m\u001b[0;34m]\u001b[0m\u001b[0;34m.\u001b[0m\u001b[0mcreate_game\u001b[0m\u001b[0;34m(\u001b[0m\u001b[0mcreate\u001b[0m\u001b[0;34m)\u001b[0m\u001b[0;34m\u001b[0m\u001b[0;34m\u001b[0m\u001b[0m\n\u001b[0m\u001b[1;32m    413\u001b[0m \u001b[0;34m\u001b[0m\u001b[0m\n\u001b[1;32m    414\u001b[0m     \u001b[0;31m# Create the join requests.\u001b[0m\u001b[0;34m\u001b[0m\u001b[0;34m\u001b[0m\u001b[0;34m\u001b[0m\u001b[0m\n",
      "\u001b[0;32m~/anaconda3/envs/starcraft2/lib/python3.6/site-packages/pysc2/lib/remote_controller.py\u001b[0m in \u001b[0;36m_valid_status\u001b[0;34m(self, *args, **kwargs)\u001b[0m\n\u001b[1;32m     97\u001b[0m             \"`%s` called while in state: %s, valid: (%s)\" % (\n\u001b[1;32m     98\u001b[0m                 func.__name__, self.status, \",\".join(map(str, valid))))\n\u001b[0;32m---> 99\u001b[0;31m       \u001b[0;32mreturn\u001b[0m \u001b[0mfunc\u001b[0m\u001b[0;34m(\u001b[0m\u001b[0mself\u001b[0m\u001b[0;34m,\u001b[0m \u001b[0;34m*\u001b[0m\u001b[0margs\u001b[0m\u001b[0;34m,\u001b[0m \u001b[0;34m**\u001b[0m\u001b[0mkwargs\u001b[0m\u001b[0;34m)\u001b[0m\u001b[0;34m\u001b[0m\u001b[0;34m\u001b[0m\u001b[0m\n\u001b[0m\u001b[1;32m    100\u001b[0m     \u001b[0;32mreturn\u001b[0m \u001b[0m_valid_status\u001b[0m\u001b[0;34m\u001b[0m\u001b[0;34m\u001b[0m\u001b[0m\n\u001b[1;32m    101\u001b[0m   \u001b[0;32mreturn\u001b[0m \u001b[0mdecorator\u001b[0m\u001b[0;34m\u001b[0m\u001b[0;34m\u001b[0m\u001b[0m\n",
      "\u001b[0;32m~/anaconda3/envs/starcraft2/lib/python3.6/site-packages/pysc2/lib/remote_controller.py\u001b[0m in \u001b[0;36m_check_error\u001b[0;34m(*args, **kwargs)\u001b[0m\n\u001b[1;32m     72\u001b[0m     \u001b[0;34m@\u001b[0m\u001b[0mfunctools\u001b[0m\u001b[0;34m.\u001b[0m\u001b[0mwraps\u001b[0m\u001b[0;34m(\u001b[0m\u001b[0mfunc\u001b[0m\u001b[0;34m)\u001b[0m\u001b[0;34m\u001b[0m\u001b[0;34m\u001b[0m\u001b[0m\n\u001b[1;32m     73\u001b[0m     \u001b[0;32mdef\u001b[0m \u001b[0m_check_error\u001b[0m\u001b[0;34m(\u001b[0m\u001b[0;34m*\u001b[0m\u001b[0margs\u001b[0m\u001b[0;34m,\u001b[0m \u001b[0;34m**\u001b[0m\u001b[0mkwargs\u001b[0m\u001b[0;34m)\u001b[0m\u001b[0;34m:\u001b[0m\u001b[0;34m\u001b[0m\u001b[0;34m\u001b[0m\u001b[0m\n\u001b[0;32m---> 74\u001b[0;31m       \u001b[0;32mreturn\u001b[0m \u001b[0mcheck_error\u001b[0m\u001b[0;34m(\u001b[0m\u001b[0mfunc\u001b[0m\u001b[0;34m(\u001b[0m\u001b[0;34m*\u001b[0m\u001b[0margs\u001b[0m\u001b[0;34m,\u001b[0m \u001b[0;34m**\u001b[0m\u001b[0mkwargs\u001b[0m\u001b[0;34m)\u001b[0m\u001b[0;34m,\u001b[0m \u001b[0merror_enum\u001b[0m\u001b[0;34m)\u001b[0m\u001b[0;34m\u001b[0m\u001b[0;34m\u001b[0m\u001b[0m\n\u001b[0m\u001b[1;32m     75\u001b[0m     \u001b[0;32mreturn\u001b[0m \u001b[0m_check_error\u001b[0m\u001b[0;34m\u001b[0m\u001b[0;34m\u001b[0m\u001b[0m\n\u001b[1;32m     76\u001b[0m   \u001b[0;32mreturn\u001b[0m \u001b[0mdecorator\u001b[0m\u001b[0;34m\u001b[0m\u001b[0;34m\u001b[0m\u001b[0m\n",
      "\u001b[0;32m~/anaconda3/envs/starcraft2/lib/python3.6/site-packages/pysc2/lib/stopwatch.py\u001b[0m in \u001b[0;36m_stopwatch\u001b[0;34m(*args, **kwargs)\u001b[0m\n\u001b[1;32m    210\u001b[0m       \u001b[0;32mdef\u001b[0m \u001b[0m_stopwatch\u001b[0m\u001b[0;34m(\u001b[0m\u001b[0;34m*\u001b[0m\u001b[0margs\u001b[0m\u001b[0;34m,\u001b[0m \u001b[0;34m**\u001b[0m\u001b[0mkwargs\u001b[0m\u001b[0;34m)\u001b[0m\u001b[0;34m:\u001b[0m\u001b[0;34m\u001b[0m\u001b[0;34m\u001b[0m\u001b[0m\n\u001b[1;32m    211\u001b[0m         \u001b[0;32mwith\u001b[0m \u001b[0mself\u001b[0m\u001b[0;34m(\u001b[0m\u001b[0mname\u001b[0m\u001b[0;34m)\u001b[0m\u001b[0;34m:\u001b[0m\u001b[0;34m\u001b[0m\u001b[0;34m\u001b[0m\u001b[0m\n\u001b[0;32m--> 212\u001b[0;31m           \u001b[0;32mreturn\u001b[0m \u001b[0mfunc\u001b[0m\u001b[0;34m(\u001b[0m\u001b[0;34m*\u001b[0m\u001b[0margs\u001b[0m\u001b[0;34m,\u001b[0m \u001b[0;34m**\u001b[0m\u001b[0mkwargs\u001b[0m\u001b[0;34m)\u001b[0m\u001b[0;34m\u001b[0m\u001b[0;34m\u001b[0m\u001b[0m\n\u001b[0m\u001b[1;32m    213\u001b[0m       \u001b[0;32mreturn\u001b[0m \u001b[0m_stopwatch\u001b[0m\u001b[0;34m\u001b[0m\u001b[0;34m\u001b[0m\u001b[0m\n\u001b[1;32m    214\u001b[0m     \u001b[0;32mif\u001b[0m \u001b[0mcallable\u001b[0m\u001b[0;34m(\u001b[0m\u001b[0mname_or_func\u001b[0m\u001b[0;34m)\u001b[0m\u001b[0;34m:\u001b[0m\u001b[0;34m\u001b[0m\u001b[0;34m\u001b[0m\u001b[0m\n",
      "\u001b[0;32m~/anaconda3/envs/starcraft2/lib/python3.6/site-packages/pysc2/lib/remote_controller.py\u001b[0m in \u001b[0;36mcreate_game\u001b[0;34m(self, req_create_game)\u001b[0m\n\u001b[1;32m    192\u001b[0m   \u001b[0;32mdef\u001b[0m \u001b[0mcreate_game\u001b[0m\u001b[0;34m(\u001b[0m\u001b[0mself\u001b[0m\u001b[0;34m,\u001b[0m \u001b[0mreq_create_game\u001b[0m\u001b[0;34m)\u001b[0m\u001b[0;34m:\u001b[0m\u001b[0;34m\u001b[0m\u001b[0;34m\u001b[0m\u001b[0m\n\u001b[1;32m    193\u001b[0m     \u001b[0;34m\"\"\"Create a new game. This can only be done by the host.\"\"\"\u001b[0m\u001b[0;34m\u001b[0m\u001b[0;34m\u001b[0m\u001b[0m\n\u001b[0;32m--> 194\u001b[0;31m     \u001b[0;32mreturn\u001b[0m \u001b[0mself\u001b[0m\u001b[0;34m.\u001b[0m\u001b[0m_client\u001b[0m\u001b[0;34m.\u001b[0m\u001b[0msend\u001b[0m\u001b[0;34m(\u001b[0m\u001b[0mcreate_game\u001b[0m\u001b[0;34m=\u001b[0m\u001b[0mreq_create_game\u001b[0m\u001b[0;34m)\u001b[0m\u001b[0;34m\u001b[0m\u001b[0;34m\u001b[0m\u001b[0m\n\u001b[0m\u001b[1;32m    195\u001b[0m \u001b[0;34m\u001b[0m\u001b[0m\n\u001b[1;32m    196\u001b[0m   \u001b[0;34m@\u001b[0m\u001b[0mvalid_status\u001b[0m\u001b[0;34m(\u001b[0m\u001b[0mStatus\u001b[0m\u001b[0;34m.\u001b[0m\u001b[0mlaunched\u001b[0m\u001b[0;34m,\u001b[0m \u001b[0mStatus\u001b[0m\u001b[0;34m.\u001b[0m\u001b[0minit_game\u001b[0m\u001b[0;34m)\u001b[0m\u001b[0;34m\u001b[0m\u001b[0;34m\u001b[0m\u001b[0m\n",
      "\u001b[0;32m~/anaconda3/envs/starcraft2/lib/python3.6/site-packages/pysc2/lib/protocol.py\u001b[0m in \u001b[0;36msend\u001b[0;34m(self, **kwargs)\u001b[0m\n\u001b[1;32m    151\u001b[0m       \u001b[0mres\u001b[0m \u001b[0;34m=\u001b[0m \u001b[0mself\u001b[0m\u001b[0;34m.\u001b[0m\u001b[0msend_req\u001b[0m\u001b[0;34m(\u001b[0m\u001b[0mreq\u001b[0m\u001b[0;34m)\u001b[0m\u001b[0;34m\u001b[0m\u001b[0;34m\u001b[0m\u001b[0m\n\u001b[1;32m    152\u001b[0m     \u001b[0;32mexcept\u001b[0m \u001b[0mConnectionError\u001b[0m \u001b[0;32mas\u001b[0m \u001b[0me\u001b[0m\u001b[0;34m:\u001b[0m\u001b[0;34m\u001b[0m\u001b[0;34m\u001b[0m\u001b[0m\n\u001b[0;32m--> 153\u001b[0;31m       \u001b[0;32mraise\u001b[0m \u001b[0mConnectionError\u001b[0m\u001b[0;34m(\u001b[0m\u001b[0;34m\"Error during %s: %s\"\u001b[0m \u001b[0;34m%\u001b[0m \u001b[0;34m(\u001b[0m\u001b[0mname\u001b[0m\u001b[0;34m,\u001b[0m \u001b[0me\u001b[0m\u001b[0;34m)\u001b[0m\u001b[0;34m)\u001b[0m\u001b[0;34m\u001b[0m\u001b[0;34m\u001b[0m\u001b[0m\n\u001b[0m\u001b[1;32m    154\u001b[0m     \u001b[0;32mif\u001b[0m \u001b[0mres\u001b[0m\u001b[0;34m.\u001b[0m\u001b[0mHasField\u001b[0m\u001b[0;34m(\u001b[0m\u001b[0;34m\"id\"\u001b[0m\u001b[0;34m)\u001b[0m \u001b[0;32mand\u001b[0m \u001b[0mres\u001b[0m\u001b[0;34m.\u001b[0m\u001b[0mid\u001b[0m \u001b[0;34m!=\u001b[0m \u001b[0mreq\u001b[0m\u001b[0;34m.\u001b[0m\u001b[0mid\u001b[0m\u001b[0;34m:\u001b[0m\u001b[0;34m\u001b[0m\u001b[0;34m\u001b[0m\u001b[0m\n\u001b[1;32m    155\u001b[0m       raise ConnectionError(\n",
      "\u001b[0;31mConnectionError\u001b[0m: Error during create_game: Connection already closed. SC2 probably crashed. Check the error log."
     ]
    }
   ],
   "source": [
    "if __name__ == \"__main__\":\n",
    "  app.run(main)"
   ]
  },
  {
   "cell_type": "markdown",
   "metadata": {},
   "source": [
    "### [Winning rate graph]"
   ]
  },
  {
   "cell_type": "code",
   "execution_count": 18,
   "metadata": {},
   "outputs": [
    {
     "name": "stdout",
     "output_type": "stream",
     "text": [
      "Requirement already satisfied: matplotlib in /Library/Frameworks/Python.framework/Versions/3.5/lib/python3.5/site-packages (3.0.3)\n",
      "Requirement already satisfied: pyparsing!=2.0.4,!=2.1.2,!=2.1.6,>=2.0.1 in /Library/Frameworks/Python.framework/Versions/3.5/lib/python3.5/site-packages (from matplotlib) (2.4.7)\n",
      "Requirement already satisfied: numpy>=1.10.0 in /Library/Frameworks/Python.framework/Versions/3.5/lib/python3.5/site-packages (from matplotlib) (1.18.5)\n",
      "Requirement already satisfied: python-dateutil>=2.1 in /Library/Frameworks/Python.framework/Versions/3.5/lib/python3.5/site-packages (from matplotlib) (2.8.1)\n",
      "Requirement already satisfied: kiwisolver>=1.0.1 in /Library/Frameworks/Python.framework/Versions/3.5/lib/python3.5/site-packages (from matplotlib) (1.1.0)\n",
      "Requirement already satisfied: cycler>=0.10 in /Library/Frameworks/Python.framework/Versions/3.5/lib/python3.5/site-packages (from matplotlib) (0.10.0)\n",
      "Requirement already satisfied: six>=1.5 in /Library/Frameworks/Python.framework/Versions/3.5/lib/python3.5/site-packages (from python-dateutil>=2.1->matplotlib) (1.15.0)\n",
      "Requirement already satisfied: setuptools in /Library/Frameworks/Python.framework/Versions/3.5/lib/python3.5/site-packages (from kiwisolver>=1.0.1->matplotlib) (47.1.1)\n",
      "\u001b[33mWARNING: You are using pip version 20.1.1; however, version 20.2.3 is available.\n",
      "You should consider upgrading via the '/Library/Frameworks/Python.framework/Versions/3.5/bin/python3 -m pip install --upgrade pip' command.\u001b[0m\n"
     ]
    }
   ],
   "source": [
    "!pip install matplotlib"
   ]
  },
  {
   "cell_type": "code",
   "execution_count": 313,
   "metadata": {},
   "outputs": [],
   "source": [
    "import pickle\n",
    "import numpy as np\n",
    "import matplotlib.pyplot as plt\n",
    "%matplotlib inline\n",
    "\n",
    "SCORE_FILE = 'rlagent_with_vanilla_dqn_score'"
   ]
  },
  {
   "cell_type": "code",
   "execution_count": 314,
   "metadata": {},
   "outputs": [],
   "source": [
    "with open(SCORE_FILE + '.txt', \"rb\") as fp:\n",
    "    scores = pickle.load(fp)"
   ]
  },
  {
   "cell_type": "code",
   "execution_count": null,
   "metadata": {},
   "outputs": [],
   "source": []
  },
  {
   "cell_type": "code",
   "execution_count": 315,
   "metadata": {},
   "outputs": [
    {
     "data": {
      "text/plain": [
       "array([[100.,   0.,   0.],\n",
       "       [100.,   0.,   0.],\n",
       "       [100.,   0.,   0.],\n",
       "       ...,\n",
       "       [ 97.,   1.,   2.],\n",
       "       [ 97.,   1.,   2.],\n",
       "       [ 96.,   1.,   3.]])"
      ]
     },
     "execution_count": 315,
     "metadata": {},
     "output_type": "execute_result"
    }
   ],
   "source": [
    "np_scores = np.array(scores)\n",
    "np_scores"
   ]
  },
  {
   "cell_type": "code",
   "execution_count": 316,
   "metadata": {},
   "outputs": [
    {
     "data": {
      "image/png": "[encoded data removed]",
      "text/plain": [
       "<Figure size 432x288 with 1 Axes>"
      ]
     },
     "metadata": {
      "needs_background": "light"
     },
     "output_type": "display_data"
    }
   ],
   "source": [
    "# plot the scores\n",
    "fig = plt.figure()\n",
    "ax = fig.add_subplot(111)\n",
    "plt.plot(np.arange(len(np_scores)), np_scores.T[0], color='r', label='win rate')\n",
    "plt.plot(np.arange(len(np_scores)), np_scores.T[1], color='g', label='tie rate')\n",
    "plt.plot(np.arange(len(np_scores)), np_scores.T[2], color='b', label='lose rate')\n",
    "plt.ylabel('Score %')\n",
    "plt.xlabel('Episode #')\n",
    "plt.legend(loc='best')\n",
    "plt.show()"
   ]
  },
  {
   "cell_type": "code",
   "execution_count": 52,
   "metadata": {},
   "outputs": [
    {
     "ename": "NameError",
     "evalue": "name 'file' is not defined",
     "output_type": "error",
     "traceback": [
      "\u001b[0;31m---------------------------------------------------------------------------\u001b[0m",
      "\u001b[0;31mNameError\u001b[0m                                 Traceback (most recent call last)",
      "\u001b[0;32m<ipython-input-52-b8811b42e2df>\u001b[0m in \u001b[0;36m<module>\u001b[0;34m\u001b[0m\n\u001b[0;32m----> 1\u001b[0;31m \u001b[0mf\u001b[0m \u001b[0;34m=\u001b[0m \u001b[0mfile\u001b[0m\u001b[0;34m.\u001b[0m\u001b[0mopen\u001b[0m\u001b[0;34m(\u001b[0m\u001b[0;34m)\u001b[0m\u001b[0;34m\u001b[0m\u001b[0;34m\u001b[0m\u001b[0m\n\u001b[0m",
      "\u001b[0;31mNameError\u001b[0m: name 'file' is not defined"
     ]
    }
   ],
   "source": [
    "f = file.open()"
   ]
  },
  {
   "cell_type": "code",
   "execution_count": null,
   "metadata": {},
   "outputs": [],
   "source": []
  }
 ],
 "metadata": {
  "kernelspec": {
   "display_name": "starcraft2",
   "language": "python",
   "name": "starcraft2"
  },
  "language_info": {
   "codemirror_mode": {
    "name": "ipython",
    "version": 3
   },
   "file_extension": ".py",
   "mimetype": "text/x-python",
   "name": "python",
   "nbconvert_exporter": "python",
   "pygments_lexer": "ipython3",
   "version": "3.6.10"
  }
 },
 "nbformat": 4,
 "nbformat_minor": 2
}
